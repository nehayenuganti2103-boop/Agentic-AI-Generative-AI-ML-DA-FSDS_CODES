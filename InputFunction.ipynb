{
 "cells": [
  {
   "cell_type": "markdown",
   "id": "c90f6f35-251f-4505-852c-e399936631c2",
   "metadata": {},
   "source": [
    "## INPUT FUNCTION"
   ]
  },
  {
   "cell_type": "code",
   "execution_count": 1,
   "id": "ff546548-35a1-48ef-bac5-109121f5a975",
   "metadata": {},
   "outputs": [],
   "source": [
    "# USER INPUT FUNCTION IN PYTHON"
   ]
  },
  {
   "cell_type": "code",
   "execution_count": 3,
   "id": "c2ed0222-c772-4361-9baf-959bc819306b",
   "metadata": {},
   "outputs": [
    {
     "name": "stdin",
     "output_type": "stream",
     "text": [
      " 1\n",
      " 9\n"
     ]
    },
    {
     "name": "stdout",
     "output_type": "stream",
     "text": [
      "19\n"
     ]
    }
   ],
   "source": [
    "x=input()   #by-default input reads the value as string and concatnates both the values\n",
    "y=input()\n",
    "z=x+y\n",
    "print(z)"
   ]
  },
  {
   "cell_type": "code",
   "execution_count": 5,
   "id": "fe445036-245d-4832-af61-5f7ac1b59665",
   "metadata": {},
   "outputs": [
    {
     "name": "stdin",
     "output_type": "stream",
     "text": [
      "enter the 1st number 19\n",
      "enter the 2nd number 21\n"
     ]
    },
    {
     "name": "stdout",
     "output_type": "stream",
     "text": [
      "1921\n"
     ]
    }
   ],
   "source": [
    "x1=input('enter the 1st number')     #by-default input reads the value as string and concatnates both the values\n",
    "y1=input('enter the 2nd number')\n",
    "z1=x1+y1\n",
    "print(z1)"
   ]
  },
  {
   "cell_type": "code",
   "execution_count": 6,
   "id": "1506c914-5c55-44a8-a7be-b0f166dd655d",
   "metadata": {},
   "outputs": [
    {
     "data": {
      "text/plain": [
       "str"
      ]
     },
     "execution_count": 6,
     "metadata": {},
     "output_type": "execute_result"
    }
   ],
   "source": [
    "type(x1)\n",
    "type(y1)"
   ]
  },
  {
   "cell_type": "code",
   "execution_count": 8,
   "id": "92d6e0a1-d70e-40ac-a3a9-3cf126ad78c4",
   "metadata": {},
   "outputs": [
    {
     "name": "stdin",
     "output_type": "stream",
     "text": [
      "enter the 1st number 20\n",
      "enter the 2nd number 26\n"
     ]
    },
    {
     "name": "stdout",
     "output_type": "stream",
     "text": [
      "46\n"
     ]
    }
   ],
   "source": [
    "x1=input('enter the 1st number')     \n",
    "a1=int(x1)\n",
    "y1=input('enter the 2nd number')\n",
    "b1=int(y1)\n",
    "z1=a1+b1\n",
    "print(z1)"
   ]
  },
  {
   "cell_type": "code",
   "execution_count": 9,
   "id": "425b3cbc-c0aa-4204-a3ec-56722febf613",
   "metadata": {},
   "outputs": [
    {
     "name": "stdin",
     "output_type": "stream",
     "text": [
      "enter first number 11\n",
      "enter second number 22\n"
     ]
    },
    {
     "name": "stdout",
     "output_type": "stream",
     "text": [
      "33\n"
     ]
    }
   ],
   "source": [
    "x2=int(input('enter first number'))\n",
    "y2=int(input('enter second number'))\n",
    "z2=x2+y2\n",
    "print(z2)"
   ]
  },
  {
   "cell_type": "code",
   "execution_count": 11,
   "id": "705cfce4-05ac-48a1-b030-a241ed8ab974",
   "metadata": {},
   "outputs": [
    {
     "name": "stdin",
     "output_type": "stream",
     "text": [
      "enter the char :: Generative AI & Agentic AI\n"
     ]
    },
    {
     "name": "stdout",
     "output_type": "stream",
     "text": [
      "Generative AI & Agentic AI\n"
     ]
    }
   ],
   "source": [
    "ch=input('enter the char ::')\n",
    "print(ch)"
   ]
  },
  {
   "cell_type": "code",
   "execution_count": 12,
   "id": "1e907038-516f-46de-8e2c-96979c8716ba",
   "metadata": {},
   "outputs": [
    {
     "name": "stdout",
     "output_type": "stream",
     "text": [
      "G\n"
     ]
    }
   ],
   "source": [
    "print(ch[0])    #indexing of 0th index-value"
   ]
  },
  {
   "cell_type": "code",
   "execution_count": 15,
   "id": "ee62331c-fc54-4fb7-9a9f-a5e588ecd80f",
   "metadata": {},
   "outputs": [
    {
     "name": "stdout",
     "output_type": "stream",
     "text": [
      "I\n"
     ]
    }
   ],
   "source": [
    "print(ch[25])   #indexing of 25th index-value"
   ]
  },
  {
   "cell_type": "code",
   "execution_count": 13,
   "id": "a52acad1-7c40-430d-a95a-125eebea75c5",
   "metadata": {},
   "outputs": [
    {
     "name": "stdout",
     "output_type": "stream",
     "text": [
      "Generative AI & Agentic AI\n"
     ]
    }
   ],
   "source": [
    "print(ch[0:26])  #slicing from 0th to 26th postion"
   ]
  },
  {
   "cell_type": "code",
   "execution_count": 16,
   "id": "bd3d89ec-d60f-4998-ae40-db07d3d5c6b1",
   "metadata": {},
   "outputs": [
    {
     "name": "stdout",
     "output_type": "stream",
     "text": [
      "I\n"
     ]
    }
   ],
   "source": [
    "print(ch[-1])"
   ]
  },
  {
   "cell_type": "code",
   "execution_count": 17,
   "id": "9a92e143-12fc-45dc-8367-21b9240c9b91",
   "metadata": {},
   "outputs": [
    {
     "name": "stdin",
     "output_type": "stream",
     "text": [
      "enter a char prakash sir\n"
     ]
    },
    {
     "name": "stdout",
     "output_type": "stream",
     "text": [
      "p\n"
     ]
    }
   ],
   "source": [
    "ch=input('enter a char')[0]\n",
    "print(ch)"
   ]
  },
  {
   "cell_type": "code",
   "execution_count": 20,
   "id": "769a8c09-8efd-4211-9438-e1942c5c6005",
   "metadata": {},
   "outputs": [
    {
     "name": "stdin",
     "output_type": "stream",
     "text": [
      "enter a char :: PRAKASH SIR\n"
     ]
    },
    {
     "name": "stdout",
     "output_type": "stream",
     "text": [
      "PRAKASH SIR\n"
     ]
    }
   ],
   "source": [
    "ch=input('enter a char ::')[0:11]\n",
    "print(ch)"
   ]
  },
  {
   "cell_type": "code",
   "execution_count": 21,
   "id": "50c76750-bdbb-470b-9eaa-929cc8d923cc",
   "metadata": {},
   "outputs": [
    {
     "name": "stdin",
     "output_type": "stream",
     "text": [
      "enter a char : 1+9=2+1\n"
     ]
    },
    {
     "name": "stdout",
     "output_type": "stream",
     "text": [
      "1+9=2+1\n"
     ]
    }
   ],
   "source": [
    "ch=input('enter a char :')\n",
    "print(ch)"
   ]
  },
  {
   "cell_type": "markdown",
   "id": "7266b5b7-e71e-4a63-b39a-36b1ab2ab34f",
   "metadata": {},
   "source": [
    "## EVALUATE FUNCTION using print()"
   ]
  },
  {
   "cell_type": "code",
   "execution_count": 28,
   "id": "62922653-7913-438d-898f-ae3ed3d9bda5",
   "metadata": {},
   "outputs": [
    {
     "name": "stdin",
     "output_type": "stream",
     "text": [
      "enter an value-->> 21+19\n"
     ]
    },
    {
     "name": "stdout",
     "output_type": "stream",
     "text": [
      "40\n"
     ]
    }
   ],
   "source": [
    "result=eval(input('enter an value-->>'))\n",
    "print(result)"
   ]
  }
 ],
 "metadata": {
  "kernelspec": {
   "display_name": "Python 3 (ipykernel)",
   "language": "python",
   "name": "python3"
  },
  "language_info": {
   "codemirror_mode": {
    "name": "ipython",
    "version": 3
   },
   "file_extension": ".py",
   "mimetype": "text/x-python",
   "name": "python",
   "nbconvert_exporter": "python",
   "pygments_lexer": "ipython3",
   "version": "3.13.5"
  }
 },
 "nbformat": 4,
 "nbformat_minor": 5
}
