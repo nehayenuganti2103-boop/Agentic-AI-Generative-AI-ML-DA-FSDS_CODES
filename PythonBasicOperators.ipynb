{
 "cells": [
  {
   "cell_type": "markdown",
   "id": "eb7df878-78f9-440f-be0d-5a3816c235ea",
   "metadata": {},
   "source": [
    "# Addition"
   ]
  },
  {
   "cell_type": "code",
   "execution_count": 1,
   "id": "4d98f7f9-c10d-497d-b810-af8fc343641e",
   "metadata": {},
   "outputs": [
    {
     "data": {
      "text/plain": [
       "2"
      ]
     },
     "execution_count": 1,
     "metadata": {},
     "output_type": "execute_result"
    }
   ],
   "source": [
    "1+1"
   ]
  },
  {
   "cell_type": "markdown",
   "id": "8f68d984-c58b-4f37-88d2-ff06f33e3c18",
   "metadata": {},
   "source": [
    "# Subtraction"
   ]
  },
  {
   "cell_type": "code",
   "execution_count": 2,
   "id": "c0c9c1c9-807b-490d-9851-63a428f16352",
   "metadata": {},
   "outputs": [
    {
     "data": {
      "text/plain": [
       "1"
      ]
     },
     "execution_count": 2,
     "metadata": {},
     "output_type": "execute_result"
    }
   ],
   "source": [
    "2-1"
   ]
  },
  {
   "cell_type": "markdown",
   "id": "712159d8-cf9f-4488-8442-0afe0dc98134",
   "metadata": {},
   "source": [
    "# Multiplication"
   ]
  },
  {
   "cell_type": "code",
   "execution_count": 3,
   "id": "aee83a82-0808-4194-9deb-0f4b652b9fdc",
   "metadata": {},
   "outputs": [
    {
     "data": {
      "text/plain": [
       "12"
      ]
     },
     "execution_count": 3,
     "metadata": {},
     "output_type": "execute_result"
    }
   ],
   "source": [
    "3*4"
   ]
  },
  {
   "cell_type": "markdown",
   "id": "bd2d2e7a-6fa5-4960-9131-a0132f338e96",
   "metadata": {},
   "source": [
    "# Division"
   ]
  },
  {
   "cell_type": "code",
   "execution_count": 4,
   "id": "cb91dcbf-77fe-4af5-887f-da158e8ff46a",
   "metadata": {},
   "outputs": [
    {
     "data": {
      "text/plain": [
       "2.0"
      ]
     },
     "execution_count": 4,
     "metadata": {},
     "output_type": "execute_result"
    }
   ],
   "source": [
    "8/4"
   ]
  },
  {
   "cell_type": "markdown",
   "id": "e691e786-f354-4094-b606-8bfbb0b284ee",
   "metadata": {},
   "source": [
    "# Float Division"
   ]
  },
  {
   "cell_type": "code",
   "execution_count": 5,
   "id": "0fc661f1-9771-460d-8df1-72248d1a11d9",
   "metadata": {},
   "outputs": [
    {
     "data": {
      "text/plain": [
       "1.6"
      ]
     },
     "execution_count": 5,
     "metadata": {},
     "output_type": "execute_result"
    }
   ],
   "source": [
    "8/5"
   ]
  },
  {
   "cell_type": "markdown",
   "id": "8d3c3c71-eefd-448e-9191-d25b33f5d125",
   "metadata": {},
   "source": [
    "# Integer Division"
   ]
  },
  {
   "cell_type": "code",
   "execution_count": 6,
   "id": "91f32d72-6204-4485-ac17-1d8c3805f677",
   "metadata": {},
   "outputs": [
    {
     "data": {
      "text/plain": [
       "2"
      ]
     },
     "execution_count": 6,
     "metadata": {},
     "output_type": "execute_result"
    }
   ],
   "source": [
    "8//4"
   ]
  },
  {
   "cell_type": "code",
   "execution_count": 7,
   "id": "c0b5f867-dced-46f2-b450-0183727ccc73",
   "metadata": {},
   "outputs": [
    {
     "data": {
      "text/plain": [
       "10"
      ]
     },
     "execution_count": 7,
     "metadata": {},
     "output_type": "execute_result"
    }
   ],
   "source": [
    "8+9-7"
   ]
  },
  {
   "cell_type": "markdown",
   "id": "46a1903a-9cf0-4e2e-a509-64b470deca5d",
   "metadata": {},
   "source": [
    "# Syntax Error"
   ]
  },
  {
   "cell_type": "code",
   "execution_count": 8,
   "id": "c2d4d7e2-3612-4be5-ab94-227fadd42a3f",
   "metadata": {},
   "outputs": [
    {
     "ename": "SyntaxError",
     "evalue": "invalid syntax (3517709320.py, line 1)",
     "output_type": "error",
     "traceback": [
      "\u001b[1;36m  Cell \u001b[1;32mIn[8], line 1\u001b[1;36m\u001b[0m\n\u001b[1;33m    8+8-\u001b[0m\n\u001b[1;37m        ^\u001b[0m\n\u001b[1;31mSyntaxError\u001b[0m\u001b[1;31m:\u001b[0m invalid syntax\n"
     ]
    }
   ],
   "source": [
    "8+8-"
   ]
  },
  {
   "cell_type": "code",
   "execution_count": 10,
   "id": "0429e7ac-ab91-492c-854f-10d0b303a2f0",
   "metadata": {},
   "outputs": [
    {
     "data": {
      "text/plain": [
       "30"
      ]
     },
     "execution_count": 10,
     "metadata": {},
     "output_type": "execute_result"
    }
   ],
   "source": [
    "5+5*5"
   ]
  },
  {
   "cell_type": "markdown",
   "id": "ae9fc7a8-bac8-4821-9aed-27a880ffbcff",
   "metadata": {},
   "source": [
    "# BODMAS(Bracket || Orders || Divide || Muliplication || Addition || Subtraction)"
   ]
  },
  {
   "cell_type": "code",
   "execution_count": 9,
   "id": "6051c77a-f9ab-44f7-aa43-0e7cdcca5bb1",
   "metadata": {},
   "outputs": [
    {
     "data": {
      "text/plain": [
       "50"
      ]
     },
     "execution_count": 9,
     "metadata": {},
     "output_type": "execute_result"
    }
   ],
   "source": [
    "(5+5)*5"
   ]
  },
  {
   "cell_type": "markdown",
   "id": "15831f48-46d8-44da-b134-fd3043af016b",
   "metadata": {},
   "source": [
    "# Exponential"
   ]
  },
  {
   "cell_type": "code",
   "execution_count": 11,
   "id": "b4110ae7-8293-4493-a39e-0d171a902e14",
   "metadata": {},
   "outputs": [
    {
     "data": {
      "text/plain": [
       "64"
      ]
     },
     "execution_count": 11,
     "metadata": {},
     "output_type": "execute_result"
    }
   ],
   "source": [
    "2*2*2*2*2*2"
   ]
  },
  {
   "cell_type": "code",
   "execution_count": 12,
   "id": "116ca640-347d-42be-81ea-03d589e590b8",
   "metadata": {},
   "outputs": [
    {
     "data": {
      "text/plain": [
       "32"
      ]
     },
     "execution_count": 12,
     "metadata": {},
     "output_type": "execute_result"
    }
   ],
   "source": [
    "2**5"
   ]
  },
  {
   "cell_type": "code",
   "execution_count": 13,
   "id": "22e1fc8f-bc32-45de-af4f-1595dea0f445",
   "metadata": {},
   "outputs": [
    {
     "ename": "SyntaxError",
     "evalue": "invalid syntax (782503872.py, line 1)",
     "output_type": "error",
     "traceback": [
      "\u001b[1;36m  Cell \u001b[1;32mIn[13], line 1\u001b[1;36m\u001b[0m\n\u001b[1;33m    2***4\u001b[0m\n\u001b[1;37m       ^\u001b[0m\n\u001b[1;31mSyntaxError\u001b[0m\u001b[1;31m:\u001b[0m invalid syntax\n"
     ]
    }
   ],
   "source": [
    "2***4"
   ]
  },
  {
   "cell_type": "markdown",
   "id": "d3fb1d3c-18a1-435f-b0cc-6b7bca6d690f",
   "metadata": {},
   "source": [
    "# Division Types"
   ]
  },
  {
   "cell_type": "code",
   "execution_count": 14,
   "id": "f2f0929c-c8bf-4362-a4fb-fb2c7259efee",
   "metadata": {},
   "outputs": [
    {
     "data": {
      "text/plain": [
       "5.0"
      ]
     },
     "execution_count": 14,
     "metadata": {},
     "output_type": "execute_result"
    }
   ],
   "source": [
    "15/3"
   ]
  },
  {
   "cell_type": "code",
   "execution_count": 15,
   "id": "8f7f11d6-b5d0-4d8f-9da6-d7a3a4085115",
   "metadata": {},
   "outputs": [
    {
     "data": {
      "text/plain": [
       "3"
      ]
     },
     "execution_count": 15,
     "metadata": {},
     "output_type": "execute_result"
    }
   ],
   "source": [
    "10//3"
   ]
  },
  {
   "cell_type": "code",
   "execution_count": 17,
   "id": "534d4e39-3490-484d-be8f-b3603bda6575",
   "metadata": {},
   "outputs": [
    {
     "data": {
      "text/plain": [
       "1"
      ]
     },
     "execution_count": 17,
     "metadata": {},
     "output_type": "execute_result"
    }
   ],
   "source": [
    "15 % 2  #Modus"
   ]
  },
  {
   "cell_type": "code",
   "execution_count": 18,
   "id": "28136c95-edce-4e06-8c6e-7469ba8acc55",
   "metadata": {},
   "outputs": [
    {
     "ename": "SyntaxError",
     "evalue": "invalid syntax (554133621.py, line 1)",
     "output_type": "error",
     "traceback": [
      "\u001b[1;36m  Cell \u001b[1;32mIn[18], line 1\u001b[1;36m\u001b[0m\n\u001b[1;33m    15 %% 3\u001b[0m\n\u001b[1;37m        ^\u001b[0m\n\u001b[1;31mSyntaxError\u001b[0m\u001b[1;31m:\u001b[0m invalid syntax\n"
     ]
    }
   ],
   "source": [
    "15 %% 3"
   ]
  },
  {
   "cell_type": "code",
   "execution_count": 19,
   "id": "98d7c773-bf20-4cf6-aff7-da94d8b15a8f",
   "metadata": {},
   "outputs": [
    {
     "ename": "TypeError",
     "evalue": "unsupported operand type(s) for +: 'int' and 'str'",
     "output_type": "error",
     "traceback": [
      "\u001b[1;31m---------------------------------------------------------------------------\u001b[0m",
      "\u001b[1;31mTypeError\u001b[0m                                 Traceback (most recent call last)",
      "Cell \u001b[1;32mIn[19], line 1\u001b[0m\n\u001b[1;32m----> 1\u001b[0m \u001b[38;5;241m3\u001b[39m \u001b[38;5;241m+\u001b[39m\u001b[38;5;124m'\u001b[39m\u001b[38;5;124mNIT\u001b[39m\u001b[38;5;124m'\u001b[39m\n",
      "\u001b[1;31mTypeError\u001b[0m: unsupported operand type(s) for +: 'int' and 'str'"
     ]
    }
   ],
   "source": [
    "3 +'NIT'"
   ]
  },
  {
   "cell_type": "code",
   "execution_count": 20,
   "id": "f2626173-d0d4-4bd2-83ba-0d4256c86b0f",
   "metadata": {},
   "outputs": [
    {
     "name": "stdout",
     "output_type": "stream",
     "text": [
      "15\n",
      "7.8\n",
      "nit\n",
      "(8+9j)\n",
      "True\n"
     ]
    }
   ],
   "source": [
    "a,b,c,d,e = 15, 7.8, 'nit', 8+9j, True\n",
    "print(a)\n",
    "print(b)\n",
    "print(c)\n",
    "print(d)\n",
    "print(e)"
   ]
  },
  {
   "cell_type": "code",
   "execution_count": 21,
   "id": "45d770ce-61b8-49b1-9d5f-e5c181af025b",
   "metadata": {},
   "outputs": [
    {
     "name": "stdout",
     "output_type": "stream",
     "text": [
      "<class 'int'>\n",
      "<class 'float'>\n",
      "<class 'str'>\n",
      "<class 'complex'>\n",
      "<class 'bool'>\n"
     ]
    }
   ],
   "source": [
    "print(type(a))\n",
    "print(type(b))\n",
    "print(type(c))\n",
    "print(type(d))\n",
    "print(type(e))"
   ]
  },
  {
   "cell_type": "code",
   "execution_count": 22,
   "id": "91d54ea2-01d6-4a9c-8b01-8c5df87b5cec",
   "metadata": {},
   "outputs": [
    {
     "data": {
      "text/plain": [
       "str"
      ]
     },
     "execution_count": 22,
     "metadata": {},
     "output_type": "execute_result"
    }
   ],
   "source": [
    "type(c)"
   ]
  },
  {
   "cell_type": "markdown",
   "id": "32605666-9799-4d2e-8541-5d7e0497cd6e",
   "metadata": {},
   "source": [
    "# code with Integer"
   ]
  },
  {
   "cell_type": "code",
   "execution_count": 23,
   "id": "eb46b7dc-41a1-4d07-9613-db3c0cdef2f9",
   "metadata": {},
   "outputs": [
    {
     "data": {
      "text/plain": [
       "'Naresh IT'"
      ]
     },
     "execution_count": 23,
     "metadata": {},
     "output_type": "execute_result"
    }
   ],
   "source": [
    "'Naresh IT'"
   ]
  },
  {
   "cell_type": "code",
   "execution_count": 24,
   "id": "641fae9b-f9b7-4905-93ab-dce9a895610f",
   "metadata": {},
   "outputs": [
    {
     "name": "stdout",
     "output_type": "stream",
     "text": [
      "Max IT\n"
     ]
    }
   ],
   "source": [
    "print('Max IT')"
   ]
  },
  {
   "cell_type": "code",
   "execution_count": 25,
   "id": "d70a774c-61e2-41b5-8326-4fd648c1d98c",
   "metadata": {},
   "outputs": [
    {
     "data": {
      "text/plain": [
       "' Max IT Technology '"
      ]
     },
     "execution_count": 25,
     "metadata": {},
     "output_type": "execute_result"
    }
   ],
   "source": [
    "\" Max IT Technology \""
   ]
  },
  {
   "cell_type": "code",
   "execution_count": 27,
   "id": "7f21cb56-6379-43de-a9fa-7265c97bb3c6",
   "metadata": {},
   "outputs": [
    {
     "data": {
      "text/plain": [
       "' Max IT Technology '"
      ]
     },
     "execution_count": 27,
     "metadata": {},
     "output_type": "execute_result"
    }
   ],
   "source": [
    "s1=' Max IT Technology '\n",
    "s1"
   ]
  },
  {
   "cell_type": "code",
   "execution_count": 28,
   "id": "878ef093-bf62-4f70-ad61-3aaacb711717",
   "metadata": {},
   "outputs": [
    {
     "data": {
      "text/plain": [
       "5"
      ]
     },
     "execution_count": 28,
     "metadata": {},
     "output_type": "execute_result"
    }
   ],
   "source": [
    "a=2\n",
    "b=3\n",
    "a+b"
   ]
  },
  {
   "cell_type": "code",
   "execution_count": 29,
   "id": "9e87feb7-b74a-4bc5-be9a-9d00bf5d487c",
   "metadata": {},
   "outputs": [
    {
     "data": {
      "text/plain": [
       "5"
      ]
     },
     "execution_count": 29,
     "metadata": {},
     "output_type": "execute_result"
    }
   ],
   "source": [
    "c=a+b\n",
    "c"
   ]
  },
  {
   "cell_type": "code",
   "execution_count": 30,
   "id": "1c3969da-a302-430f-bfc7-6940ecaa01ed",
   "metadata": {},
   "outputs": [
    {
     "data": {
      "text/plain": [
       "str"
      ]
     },
     "execution_count": 30,
     "metadata": {},
     "output_type": "execute_result"
    }
   ],
   "source": [
    "a=3\n",
    "b='Hi'\n",
    "type(b)"
   ]
  },
  {
   "cell_type": "code",
   "execution_count": 31,
   "id": "14b247f7-ea5c-4c2a-b6de-458fb02c1b55",
   "metadata": {},
   "outputs": [
    {
     "ename": "SyntaxError",
     "evalue": "unterminated string literal (detected at line 1) (3350664193.py, line 1)",
     "output_type": "error",
     "traceback": [
      "\u001b[1;36m  Cell \u001b[1;32mIn[31], line 1\u001b[1;36m\u001b[0m\n\u001b[1;33m    print('Max It's \"Technology\"')\u001b[0m\n\u001b[1;37m                                ^\u001b[0m\n\u001b[1;31mSyntaxError\u001b[0m\u001b[1;31m:\u001b[0m unterminated string literal (detected at line 1)\n"
     ]
    }
   ],
   "source": [
    "print('Max It's \"Technology\"')"
   ]
  },
  {
   "cell_type": "code",
   "execution_count": 32,
   "id": "8d8d6757-9332-4f46-9436-f5d37af021ac",
   "metadata": {},
   "outputs": [
    {
     "name": "stdout",
     "output_type": "stream",
     "text": [
      "Max It's \"Technology\"\n"
     ]
    }
   ],
   "source": [
    "print('Max It\\'s \"Technology\"')"
   ]
  },
  {
   "cell_type": "code",
   "execution_count": 33,
   "id": "e0e37003-2d2f-40ff-9efb-588c24e40558",
   "metadata": {},
   "outputs": [
    {
     "name": "stdout",
     "output_type": "stream",
     "text": [
      "Max It Technology\n"
     ]
    }
   ],
   "source": [
    "print('Max It' , 'Technology')"
   ]
  },
  {
   "cell_type": "code",
   "execution_count": 34,
   "id": "98d2bc47-b153-4a1b-a8e7-fbd89f8338f8",
   "metadata": {},
   "outputs": [
    {
     "name": "stdout",
     "output_type": "stream",
     "text": [
      "Max It' , 'Technology\n"
     ]
    }
   ],
   "source": [
    "print(\"Max It' , 'Technology\")"
   ]
  },
  {
   "cell_type": "code",
   "execution_count": 35,
   "id": "1b5afebb-d112-4b4e-8ad1-3d607748dca2",
   "metadata": {},
   "outputs": [
    {
     "data": {
      "text/plain": [
       "'NITNIT'"
      ]
     },
     "execution_count": 35,
     "metadata": {},
     "output_type": "execute_result"
    }
   ],
   "source": [
    "'NIT'+'NIT'"
   ]
  },
  {
   "cell_type": "code",
   "execution_count": 37,
   "id": "d4ad213c-02a2-4b6b-bc8c-c587d848a463",
   "metadata": {},
   "outputs": [],
   "source": [
    "#print nit 2 times"
   ]
  },
  {
   "cell_type": "code",
   "execution_count": 38,
   "id": "c58d63eb-9982-4f08-a62a-f19941b5e8e5",
   "metadata": {},
   "outputs": [
    {
     "data": {
      "text/plain": [
       "'nitnit'"
      ]
     },
     "execution_count": 38,
     "metadata": {},
     "output_type": "execute_result"
    }
   ],
   "source": [
    "'nit' + 'nit'"
   ]
  },
  {
   "cell_type": "code",
   "execution_count": null,
   "id": "a56e44c2-f75b-48c9-8129-5882a198cf80",
   "metadata": {},
   "outputs": [],
   "source": [
    "#print nit 5 times"
   ]
  },
  {
   "cell_type": "code",
   "execution_count": 39,
   "id": "66f2bd9f-dea1-4897-819d-db0c31c1fd0c",
   "metadata": {},
   "outputs": [
    {
     "data": {
      "text/plain": [
       "'nitnitnitnitnit'"
      ]
     },
     "execution_count": 39,
     "metadata": {},
     "output_type": "execute_result"
    }
   ],
   "source": [
    "5*'nit'"
   ]
  },
  {
   "cell_type": "code",
   "execution_count": null,
   "id": "530d9c3b-25cc-458c-a394-c7ba9906b483",
   "metadata": {},
   "outputs": [],
   "source": [
    "#print nit 5 times including space inbetween"
   ]
  },
  {
   "cell_type": "code",
   "execution_count": 40,
   "id": "92d06822-66f7-49a6-bfc2-4729106f970c",
   "metadata": {},
   "outputs": [
    {
     "data": {
      "text/plain": [
       "' nit nit nit nit nit'"
      ]
     },
     "execution_count": 40,
     "metadata": {},
     "output_type": "execute_result"
    }
   ],
   "source": [
    "5*' nit'"
   ]
  },
  {
   "cell_type": "code",
   "execution_count": 41,
   "id": "f181400a-e17f-46bd-86d4-8f99111d31f9",
   "metadata": {},
   "outputs": [
    {
     "name": "stdout",
     "output_type": "stream",
     "text": [
      "c:\n",
      "it\n"
     ]
    }
   ],
   "source": [
    "print('c:\\nit')          # new line"
   ]
  },
  {
   "cell_type": "code",
   "execution_count": 42,
   "id": "a16fd467-ecaa-485e-aa01-9f3b86160b73",
   "metadata": {},
   "outputs": [
    {
     "name": "stdout",
     "output_type": "stream",
     "text": [
      "c:\\nit\n"
     ]
    }
   ],
   "source": [
    "print(r'c:\\nit')         # raw string"
   ]
  },
  {
   "cell_type": "markdown",
   "id": "d8e0e0c7-ebe7-452b-9225-ebbb9258978c",
   "metadata": {},
   "source": [
    "# variable || identifier || object\n"
   ]
  },
  {
   "cell_type": "code",
   "execution_count": 43,
   "id": "e28ac7ae-30f2-4cab-bf7a-e1795d50970c",
   "metadata": {},
   "outputs": [
    {
     "data": {
      "text/plain": [
       "2"
      ]
     },
     "execution_count": 43,
     "metadata": {},
     "output_type": "execute_result"
    }
   ],
   "source": [
    "x=2\n",
    "x"
   ]
  },
  {
   "cell_type": "code",
   "execution_count": 44,
   "id": "6a59265b-7db4-47cf-ad03-a71d47215e4f",
   "metadata": {},
   "outputs": [
    {
     "data": {
      "text/plain": [
       "5"
      ]
     },
     "execution_count": 44,
     "metadata": {},
     "output_type": "execute_result"
    }
   ],
   "source": [
    "x+3"
   ]
  },
  {
   "cell_type": "code",
   "execution_count": 45,
   "id": "ddbbc8cf-143e-4f6f-a840-e088f783cc49",
   "metadata": {},
   "outputs": [
    {
     "data": {
      "text/plain": [
       "3"
      ]
     },
     "execution_count": 45,
     "metadata": {},
     "output_type": "execute_result"
    }
   ],
   "source": [
    "y=3\n",
    "y"
   ]
  },
  {
   "cell_type": "code",
   "execution_count": 46,
   "id": "ecc4ffdd-6e9d-4ac0-95bc-2f616c640d72",
   "metadata": {},
   "outputs": [
    {
     "data": {
      "text/plain": [
       "5"
      ]
     },
     "execution_count": 46,
     "metadata": {},
     "output_type": "execute_result"
    }
   ],
   "source": [
    "x+y"
   ]
  },
  {
   "cell_type": "code",
   "execution_count": 47,
   "id": "93ad2c74-f560-4a82-b388-bdf9c866766b",
   "metadata": {},
   "outputs": [
    {
     "data": {
      "text/plain": [
       "9"
      ]
     },
     "execution_count": 47,
     "metadata": {},
     "output_type": "execute_result"
    }
   ],
   "source": [
    "x=9\n",
    "x"
   ]
  },
  {
   "cell_type": "code",
   "execution_count": 49,
   "id": "2ea2cf21-37f4-4f9b-b3fb-833c6b311889",
   "metadata": {},
   "outputs": [
    {
     "data": {
      "text/plain": [
       "12"
      ]
     },
     "execution_count": 49,
     "metadata": {},
     "output_type": "execute_result"
    }
   ],
   "source": [
    "x+y"
   ]
  },
  {
   "cell_type": "code",
   "execution_count": 50,
   "id": "8ed4e261-f765-4e0c-8827-9b4baafc4bdd",
   "metadata": {},
   "outputs": [
    {
     "data": {
      "text/plain": [
       "19"
      ]
     },
     "execution_count": 50,
     "metadata": {},
     "output_type": "execute_result"
    }
   ],
   "source": [
    "x+10"
   ]
  },
  {
   "cell_type": "code",
   "execution_count": 52,
   "id": "b3ba844f-f155-4857-8aa1-4ae8b668e6af",
   "metadata": {},
   "outputs": [
    {
     "data": {
      "text/plain": [
       "0"
      ]
     },
     "execution_count": 52,
     "metadata": {},
     "output_type": "execute_result"
    }
   ],
   "source": [
    "_+y"
   ]
  },
  {
   "cell_type": "code",
   "execution_count": 53,
   "id": "73b49860-1a92-4749-844e-b8e11f4b6978",
   "metadata": {},
   "outputs": [
    {
     "data": {
      "text/plain": [
       "3"
      ]
     },
     "execution_count": 53,
     "metadata": {},
     "output_type": "execute_result"
    }
   ],
   "source": [
    "_+y"
   ]
  },
  {
   "cell_type": "code",
   "execution_count": 54,
   "id": "f0790a24-9a35-49ab-b069-2739eefe708f",
   "metadata": {},
   "outputs": [
    {
     "data": {
      "text/plain": [
       "6"
      ]
     },
     "execution_count": 54,
     "metadata": {},
     "output_type": "execute_result"
    }
   ],
   "source": [
    "_+y"
   ]
  },
  {
   "cell_type": "code",
   "execution_count": 55,
   "id": "6bee953d-28aa-4e2c-9341-0be9c3033fb8",
   "metadata": {},
   "outputs": [
    {
     "data": {
      "text/plain": [
       "9"
      ]
     },
     "execution_count": 55,
     "metadata": {},
     "output_type": "execute_result"
    }
   ],
   "source": [
    "_+y"
   ]
  },
  {
   "cell_type": "code",
   "execution_count": 56,
   "id": "ee89ce62-564f-489a-bd99-a438393602a4",
   "metadata": {},
   "outputs": [
    {
     "data": {
      "text/plain": [
       "3"
      ]
     },
     "execution_count": 56,
     "metadata": {},
     "output_type": "execute_result"
    }
   ],
   "source": [
    "y"
   ]
  },
  {
   "cell_type": "code",
   "execution_count": 57,
   "id": "f255155b-cd38-4ecb-ae47-a754046f7bda",
   "metadata": {},
   "outputs": [
    {
     "data": {
      "text/plain": [
       "6"
      ]
     },
     "execution_count": 57,
     "metadata": {},
     "output_type": "execute_result"
    }
   ],
   "source": [
    "_+y"
   ]
  },
  {
   "cell_type": "code",
   "execution_count": 58,
   "id": "624d939c-3706-4404-86b0-0e344ee674f8",
   "metadata": {},
   "outputs": [
    {
     "data": {
      "text/plain": [
       "9"
      ]
     },
     "execution_count": 58,
     "metadata": {},
     "output_type": "execute_result"
    }
   ],
   "source": [
    "_+y"
   ]
  },
  {
   "cell_type": "code",
   "execution_count": 59,
   "id": "f355de2d-b48c-417b-be3c-00b7d0f0578f",
   "metadata": {},
   "outputs": [
    {
     "data": {
      "text/plain": [
       "12"
      ]
     },
     "execution_count": 59,
     "metadata": {},
     "output_type": "execute_result"
    }
   ],
   "source": [
    "_+y"
   ]
  },
  {
   "cell_type": "markdown",
   "id": "9efcbd93-bb90-42eb-84d3-fb700a1daedc",
   "metadata": {},
   "source": [
    "# String Variable"
   ]
  },
  {
   "cell_type": "code",
   "execution_count": 62,
   "id": "754c19af-45ec-43e6-bf2d-5ec56d15532c",
   "metadata": {},
   "outputs": [],
   "source": [
    "name = 'mit'"
   ]
  },
  {
   "cell_type": "code",
   "execution_count": 61,
   "id": "8c50f583-c9dc-485d-9eca-30e0aef12c15",
   "metadata": {},
   "outputs": [
    {
     "data": {
      "text/plain": [
       "'mit'"
      ]
     },
     "execution_count": 61,
     "metadata": {},
     "output_type": "execute_result"
    }
   ],
   "source": [
    "name"
   ]
  },
  {
   "cell_type": "code",
   "execution_count": 65,
   "id": "509128db-90e2-419a-8c70-7b9d1ace8431",
   "metadata": {},
   "outputs": [
    {
     "data": {
      "text/plain": [
       "'mittechnology'"
      ]
     },
     "execution_count": 65,
     "metadata": {},
     "output_type": "execute_result"
    }
   ],
   "source": [
    "name + 'technology'"
   ]
  },
  {
   "cell_type": "code",
   "execution_count": 66,
   "id": "f7a2f0a2-e871-4896-b895-6828909e1cd2",
   "metadata": {},
   "outputs": [
    {
     "data": {
      "text/plain": [
       "'mit technology'"
      ]
     },
     "execution_count": 66,
     "metadata": {},
     "output_type": "execute_result"
    }
   ],
   "source": [
    "name + ' technology'"
   ]
  },
  {
   "cell_type": "code",
   "execution_count": 67,
   "id": "297c1b08-6125-4b81-9c59-b4a95f0d61fb",
   "metadata": {},
   "outputs": [
    {
     "ename": "SyntaxError",
     "evalue": "invalid syntax (3380569889.py, line 1)",
     "output_type": "error",
     "traceback": [
      "\u001b[1;36m  Cell \u001b[1;32mIn[67], line 1\u001b[1;36m\u001b[0m\n\u001b[1;33m    name'technology'\u001b[0m\n\u001b[1;37m        ^\u001b[0m\n\u001b[1;31mSyntaxError\u001b[0m\u001b[1;31m:\u001b[0m invalid syntax\n"
     ]
    }
   ],
   "source": [
    "name'technology'"
   ]
  },
  {
   "cell_type": "code",
   "execution_count": 68,
   "id": "41f316e3-7bf3-46d8-9494-e7f46883a1cb",
   "metadata": {},
   "outputs": [
    {
     "data": {
      "text/plain": [
       "'mit'"
      ]
     },
     "execution_count": 68,
     "metadata": {},
     "output_type": "execute_result"
    }
   ],
   "source": [
    "name"
   ]
  },
  {
   "cell_type": "code",
   "execution_count": 69,
   "id": "c9559885-4b77-4163-9d75-cdf08006a9f5",
   "metadata": {},
   "outputs": [
    {
     "data": {
      "text/plain": [
       "3"
      ]
     },
     "execution_count": 69,
     "metadata": {},
     "output_type": "execute_result"
    }
   ],
   "source": [
    "len(name)"
   ]
  },
  {
   "cell_type": "markdown",
   "id": "0579cc31-9f45-49df-aa2f-badd10791310",
   "metadata": {},
   "source": [
    "# INDEXING"
   ]
  },
  {
   "cell_type": "code",
   "execution_count": 70,
   "id": "ca38e351-f479-46b0-a8f2-7456df00bc80",
   "metadata": {},
   "outputs": [
    {
     "data": {
      "text/plain": [
       "'m'"
      ]
     },
     "execution_count": 70,
     "metadata": {},
     "output_type": "execute_result"
    }
   ],
   "source": [
    "name[0]    # python indexing begins with 0"
   ]
  },
  {
   "cell_type": "code",
   "execution_count": 71,
   "id": "355f9588-d5bd-4ec4-b209-5108b885ad72",
   "metadata": {},
   "outputs": [
    {
     "ename": "IndexError",
     "evalue": "string index out of range",
     "output_type": "error",
     "traceback": [
      "\u001b[1;31m---------------------------------------------------------------------------\u001b[0m",
      "\u001b[1;31mIndexError\u001b[0m                                Traceback (most recent call last)",
      "Cell \u001b[1;32mIn[71], line 1\u001b[0m\n\u001b[1;32m----> 1\u001b[0m name[\u001b[38;5;241m5\u001b[39m]\n",
      "\u001b[1;31mIndexError\u001b[0m: string index out of range"
     ]
    }
   ],
   "source": [
    "name[5]"
   ]
  },
  {
   "cell_type": "code",
   "execution_count": 72,
   "id": "8b1eebb1-4013-49a4-ad99-3857542cfd27",
   "metadata": {},
   "outputs": [
    {
     "ename": "IndexError",
     "evalue": "string index out of range",
     "output_type": "error",
     "traceback": [
      "\u001b[1;31m---------------------------------------------------------------------------\u001b[0m",
      "\u001b[1;31mIndexError\u001b[0m                                Traceback (most recent call last)",
      "Cell \u001b[1;32mIn[72], line 1\u001b[0m\n\u001b[1;32m----> 1\u001b[0m name[\u001b[38;5;241m7\u001b[39m]\n",
      "\u001b[1;31mIndexError\u001b[0m: string index out of range"
     ]
    }
   ],
   "source": [
    "name[7]"
   ]
  },
  {
   "cell_type": "code",
   "execution_count": 73,
   "id": "420bcb64-43a1-4951-baf9-086959f3067e",
   "metadata": {},
   "outputs": [
    {
     "data": {
      "text/plain": [
       "'t'"
      ]
     },
     "execution_count": 73,
     "metadata": {},
     "output_type": "execute_result"
    }
   ],
   "source": [
    "name[-1]"
   ]
  },
  {
   "cell_type": "code",
   "execution_count": 74,
   "id": "045ff8cf-fd96-455f-9926-7167a0837468",
   "metadata": {},
   "outputs": [
    {
     "data": {
      "text/plain": [
       "'i'"
      ]
     },
     "execution_count": 74,
     "metadata": {},
     "output_type": "execute_result"
    }
   ],
   "source": [
    "name[-2]"
   ]
  },
  {
   "cell_type": "code",
   "execution_count": 75,
   "id": "97990fac-c5fc-45db-af52-8b712ad983fb",
   "metadata": {},
   "outputs": [
    {
     "ename": "IndexError",
     "evalue": "string index out of range",
     "output_type": "error",
     "traceback": [
      "\u001b[1;31m---------------------------------------------------------------------------\u001b[0m",
      "\u001b[1;31mIndexError\u001b[0m                                Traceback (most recent call last)",
      "Cell \u001b[1;32mIn[75], line 1\u001b[0m\n\u001b[1;32m----> 1\u001b[0m name[\u001b[38;5;241m-\u001b[39m\u001b[38;5;241m6\u001b[39m]\n",
      "\u001b[1;31mIndexError\u001b[0m: string index out of range"
     ]
    }
   ],
   "source": [
    "name[-6]"
   ]
  },
  {
   "cell_type": "markdown",
   "id": "4f532a4f-209d-4a3b-ac78-2722dcffd09f",
   "metadata": {},
   "source": [
    "# SLICING"
   ]
  },
  {
   "cell_type": "code",
   "execution_count": 76,
   "id": "a166b1d0-e7f7-4b0c-8343-0df7d0f9fd49",
   "metadata": {},
   "outputs": [
    {
     "data": {
      "text/plain": [
       "'mit'"
      ]
     },
     "execution_count": 76,
     "metadata": {},
     "output_type": "execute_result"
    }
   ],
   "source": [
    "name"
   ]
  },
  {
   "cell_type": "code",
   "execution_count": 77,
   "id": "b2539f32-2701-4236-aa4a-6b7db6146445",
   "metadata": {},
   "outputs": [
    {
     "data": {
      "text/plain": [
       "'m'"
      ]
     },
     "execution_count": 77,
     "metadata": {},
     "output_type": "execute_result"
    }
   ],
   "source": [
    "name[0:1]"
   ]
  },
  {
   "cell_type": "code",
   "execution_count": 78,
   "id": "a2acaffb-df3a-4aee-91e4-5f7860c5aec3",
   "metadata": {},
   "outputs": [
    {
     "data": {
      "text/plain": [
       "'mi'"
      ]
     },
     "execution_count": 78,
     "metadata": {},
     "output_type": "execute_result"
    }
   ],
   "source": [
    "name[0:2]"
   ]
  },
  {
   "cell_type": "code",
   "execution_count": 79,
   "id": "f1eebaa8-f514-4d5b-95b1-79b3a7a47f43",
   "metadata": {},
   "outputs": [
    {
     "data": {
      "text/plain": [
       "'it'"
      ]
     },
     "execution_count": 79,
     "metadata": {},
     "output_type": "execute_result"
    }
   ],
   "source": [
    "name[1:4]"
   ]
  },
  {
   "cell_type": "code",
   "execution_count": 80,
   "id": "9f5148e2-c3ad-4011-96c7-ba06cfc8f6c7",
   "metadata": {},
   "outputs": [
    {
     "data": {
      "text/plain": [
       "'it'"
      ]
     },
     "execution_count": 80,
     "metadata": {},
     "output_type": "execute_result"
    }
   ],
   "source": [
    "name[1:]"
   ]
  },
  {
   "cell_type": "code",
   "execution_count": 81,
   "id": "924bd18a-3089-449f-b6b5-d287a7990422",
   "metadata": {},
   "outputs": [
    {
     "data": {
      "text/plain": [
       "'mit'"
      ]
     },
     "execution_count": 81,
     "metadata": {},
     "output_type": "execute_result"
    }
   ],
   "source": [
    "name[:4]"
   ]
  },
  {
   "cell_type": "code",
   "execution_count": 82,
   "id": "3d7b7921-cb90-4115-99cf-e19ac4c85d44",
   "metadata": {},
   "outputs": [
    {
     "data": {
      "text/plain": [
       "''"
      ]
     },
     "execution_count": 82,
     "metadata": {},
     "output_type": "execute_result"
    }
   ],
   "source": [
    "name[3:9]"
   ]
  },
  {
   "cell_type": "code",
   "execution_count": 83,
   "id": "b062714e-f34d-4e33-9ba4-547cc7ca502f",
   "metadata": {},
   "outputs": [
    {
     "data": {
      "text/plain": [
       "'mit'"
      ]
     },
     "execution_count": 83,
     "metadata": {},
     "output_type": "execute_result"
    }
   ],
   "source": [
    "name"
   ]
  },
  {
   "cell_type": "code",
   "execution_count": 84,
   "id": "99ca9f36-7735-4717-a9be-3b08c502a59f",
   "metadata": {},
   "outputs": [
    {
     "data": {
      "text/plain": [
       "'fine'"
      ]
     },
     "execution_count": 84,
     "metadata": {},
     "output_type": "execute_result"
    }
   ],
   "source": [
    "name1='fine'\n",
    "name1"
   ]
  },
  {
   "cell_type": "code",
   "execution_count": 85,
   "id": "a26d28d8-b504-49b8-abc0-9719c7071b8a",
   "metadata": {},
   "outputs": [
    {
     "data": {
      "text/plain": [
       "'f'"
      ]
     },
     "execution_count": 85,
     "metadata": {},
     "output_type": "execute_result"
    }
   ],
   "source": [
    "name1[0:1]"
   ]
  },
  {
   "cell_type": "code",
   "execution_count": 87,
   "id": "0df3b1e3-a3ec-4679-b276-c5f79ff83513",
   "metadata": {},
   "outputs": [
    {
     "ename": "TypeError",
     "evalue": "'str' object does not support item assignment",
     "output_type": "error",
     "traceback": [
      "\u001b[1;31m---------------------------------------------------------------------------\u001b[0m",
      "\u001b[1;31mTypeError\u001b[0m                                 Traceback (most recent call last)",
      "Cell \u001b[1;32mIn[87], line 1\u001b[0m\n\u001b[1;32m----> 1\u001b[0m name1[\u001b[38;5;241m0\u001b[39m:\u001b[38;5;241m1\u001b[39m]\u001b[38;5;241m=\u001b[39m \u001b[38;5;124m'\u001b[39m\u001b[38;5;124md\u001b[39m\u001b[38;5;124m'\u001b[39m\n",
      "\u001b[1;31mTypeError\u001b[0m: 'str' object does not support item assignment"
     ]
    }
   ],
   "source": [
    "name1[0:1]= 'd'"
   ]
  },
  {
   "cell_type": "code",
   "execution_count": 89,
   "id": "18bfbcd1-5d0a-4100-9d49-51971d5035c4",
   "metadata": {},
   "outputs": [
    {
     "ename": "TypeError",
     "evalue": "'str' object does not support item assignment",
     "output_type": "error",
     "traceback": [
      "\u001b[1;31m---------------------------------------------------------------------------\u001b[0m",
      "\u001b[1;31mTypeError\u001b[0m                                 Traceback (most recent call last)",
      "Cell \u001b[1;32mIn[89], line 1\u001b[0m\n\u001b[1;32m----> 1\u001b[0m name1[\u001b[38;5;241m0\u001b[39m]\u001b[38;5;241m=\u001b[39m \u001b[38;5;124m'\u001b[39m\u001b[38;5;124md\u001b[39m\u001b[38;5;124m'\u001b[39m\n",
      "\u001b[1;31mTypeError\u001b[0m: 'str' object does not support item assignment"
     ]
    }
   ],
   "source": [
    "name1[0]= 'd'"
   ]
  },
  {
   "cell_type": "code",
   "execution_count": 90,
   "id": "0f86ffad-edcd-45e8-8a77-3789ef9a6e06",
   "metadata": {},
   "outputs": [
    {
     "data": {
      "text/plain": [
       "'fine'"
      ]
     },
     "execution_count": 90,
     "metadata": {},
     "output_type": "execute_result"
    }
   ],
   "source": [
    "name1"
   ]
  },
  {
   "cell_type": "code",
   "execution_count": 91,
   "id": "09bfe896-7207-41c7-a0b2-1e5b9865a60d",
   "metadata": {},
   "outputs": [
    {
     "data": {
      "text/plain": [
       "'ine'"
      ]
     },
     "execution_count": 91,
     "metadata": {},
     "output_type": "execute_result"
    }
   ],
   "source": [
    "name1[1:]"
   ]
  },
  {
   "cell_type": "code",
   "execution_count": 92,
   "id": "bc749ccc-f441-4889-acfc-d70876b13af7",
   "metadata": {},
   "outputs": [
    {
     "data": {
      "text/plain": [
       "'dine'"
      ]
     },
     "execution_count": 92,
     "metadata": {},
     "output_type": "execute_result"
    }
   ],
   "source": [
    "'d'+name1[1:]             # changing fine to dine"
   ]
  },
  {
   "cell_type": "code",
   "execution_count": 93,
   "id": "d42d3523-0b42-43af-938b-a5e3e3f79641",
   "metadata": {},
   "outputs": [
    {
     "ename": "NameError",
     "evalue": "name 'num1' is not defined",
     "output_type": "error",
     "traceback": [
      "\u001b[1;31m---------------------------------------------------------------------------\u001b[0m",
      "\u001b[1;31mNameError\u001b[0m                                 Traceback (most recent call last)",
      "Cell \u001b[1;32mIn[93], line 1\u001b[0m\n\u001b[1;32m----> 1\u001b[0m num1\u001b[38;5;241m.\u001b[39minsert(\u001b[38;5;241m2\u001b[39m,\u001b[38;5;124m'\u001b[39m\u001b[38;5;124mint\u001b[39m\u001b[38;5;124m'\u001b[39m)\n",
      "\u001b[1;31mNameError\u001b[0m: name 'num1' is not defined"
     ]
    }
   ],
   "source": [
    "num1.insert(2,'int')"
   ]
  },
  {
   "cell_type": "markdown",
   "id": "8d0a36eb-1fd3-49c7-a8d5-a0f4fc62f73c",
   "metadata": {},
   "source": [
    "# INTRODUCTION TO ID()"
   ]
  },
  {
   "cell_type": "code",
   "execution_count": 94,
   "id": "fd732b25-854c-479b-bb95-08a2d38353b4",
   "metadata": {},
   "outputs": [],
   "source": [
    "# VARIABLE ADDRESS"
   ]
  },
  {
   "cell_type": "code",
   "execution_count": 95,
   "id": "71773228-eaa3-4b91-87ee-65efc6f13f4d",
   "metadata": {},
   "outputs": [
    {
     "data": {
      "text/plain": [
       "140727661671464"
      ]
     },
     "execution_count": 95,
     "metadata": {},
     "output_type": "execute_result"
    }
   ],
   "source": [
    "num=5\n",
    "id(num)"
   ]
  },
  {
   "cell_type": "code",
   "execution_count": 96,
   "id": "82ff8d20-c46f-4115-9cf5-a09f9c47f32b",
   "metadata": {},
   "outputs": [
    {
     "data": {
      "text/plain": [
       "2301571425280"
      ]
     },
     "execution_count": 96,
     "metadata": {},
     "output_type": "execute_result"
    }
   ],
   "source": [
    "name='it'\n",
    "id(name)"
   ]
  },
  {
   "cell_type": "code",
   "execution_count": 97,
   "id": "13de4ab0-dba2-47c1-965f-e2346cb4d4eb",
   "metadata": {},
   "outputs": [
    {
     "data": {
      "text/plain": [
       "140727661671624"
      ]
     },
     "execution_count": 97,
     "metadata": {},
     "output_type": "execute_result"
    }
   ],
   "source": [
    "a=10\n",
    "id(a)"
   ]
  },
  {
   "cell_type": "code",
   "execution_count": 98,
   "id": "7da2d9f9-4b43-4108-94de-09672d455083",
   "metadata": {},
   "outputs": [
    {
     "data": {
      "text/plain": [
       "140727661671624"
      ]
     },
     "execution_count": 98,
     "metadata": {},
     "output_type": "execute_result"
    }
   ],
   "source": [
    "b=a\n",
    "id(b)"
   ]
  },
  {
   "cell_type": "code",
   "execution_count": 99,
   "id": "202a0498-2dac-417c-a14f-fd3b4fa02807",
   "metadata": {},
   "outputs": [
    {
     "data": {
      "text/plain": [
       "140727661671624"
      ]
     },
     "execution_count": 99,
     "metadata": {},
     "output_type": "execute_result"
    }
   ],
   "source": [
    "id(10)"
   ]
  },
  {
   "cell_type": "code",
   "execution_count": 100,
   "id": "17f358c6-e9eb-40a1-9e7b-4293ddb16dad",
   "metadata": {},
   "outputs": [
    {
     "data": {
      "text/plain": [
       "140727661671624"
      ]
     },
     "execution_count": 100,
     "metadata": {},
     "output_type": "execute_result"
    }
   ],
   "source": [
    "k=10\n",
    "id(k)"
   ]
  },
  {
   "cell_type": "code",
   "execution_count": 101,
   "id": "a52d545e-17fe-4635-ac4c-518213db8875",
   "metadata": {},
   "outputs": [
    {
     "data": {
      "text/plain": [
       "140727661671944"
      ]
     },
     "execution_count": 101,
     "metadata": {},
     "output_type": "execute_result"
    }
   ],
   "source": [
    "a=20\n",
    "id(a)"
   ]
  },
  {
   "cell_type": "code",
   "execution_count": 102,
   "id": "cf6855d6-52e3-4a19-8cd6-0999b9aed304",
   "metadata": {},
   "outputs": [
    {
     "data": {
      "text/plain": [
       "140727661671624"
      ]
     },
     "execution_count": 102,
     "metadata": {},
     "output_type": "execute_result"
    }
   ],
   "source": [
    "id(b)"
   ]
  },
  {
   "cell_type": "markdown",
   "id": "e543fd77-3305-4f13-b494-f86a0a7c04df",
   "metadata": {},
   "source": [
    "# best example of constant in maths"
   ]
  },
  {
   "cell_type": "code",
   "execution_count": 1,
   "id": "0d0bb422-0ba9-4334-99f6-fee1b4e9e84e",
   "metadata": {},
   "outputs": [
    {
     "data": {
      "text/plain": [
       "3.14"
      ]
     },
     "execution_count": 1,
     "metadata": {},
     "output_type": "execute_result"
    }
   ],
   "source": [
    "PI=3.14\n",
    "PI"
   ]
  },
  {
   "cell_type": "markdown",
   "id": "7f304d93-2459-4dc2-8ac3-f457fe290534",
   "metadata": {},
   "source": [
    "# in python nothing is stable as compared to maths"
   ]
  },
  {
   "cell_type": "code",
   "execution_count": 2,
   "id": "f1f0cbc4-211f-4ae9-9b45-36d9a30d0286",
   "metadata": {},
   "outputs": [
    {
     "data": {
      "text/plain": [
       "3.15"
      ]
     },
     "execution_count": 2,
     "metadata": {},
     "output_type": "execute_result"
    }
   ],
   "source": [
    "PI=3.15\n",
    "PI"
   ]
  },
  {
   "cell_type": "code",
   "execution_count": 3,
   "id": "a7339b12-1d33-4281-9d72-b3933ea79703",
   "metadata": {},
   "outputs": [
    {
     "data": {
      "text/plain": [
       "float"
      ]
     },
     "execution_count": 3,
     "metadata": {},
     "output_type": "execute_result"
    }
   ],
   "source": [
    "type(PI)      "
   ]
  },
  {
   "cell_type": "markdown",
   "id": "f5ac2db0-7448-43af-aa2c-36485dc04414",
   "metadata": {},
   "source": [
    "#  NUMERIC :- INT || FLOAT || COMPLEX || BOOL"
   ]
  },
  {
   "cell_type": "markdown",
   "id": "9589de39-a0b1-4486-be8a-ab053d5b6aef",
   "metadata": {},
   "source": [
    "## ARITHMETIC OPERATOR\n"
   ]
  },
  {
   "cell_type": "code",
   "execution_count": 8,
   "id": "715e8c80-a2a5-403e-9560-02a73334eb67",
   "metadata": {},
   "outputs": [],
   "source": [
    "x1,y1=10,5\n",
    "#x1^y1"
   ]
  },
  {
   "cell_type": "code",
   "execution_count": 9,
   "id": "65b9516c-bbd9-44b5-bb42-0f539bd862a3",
   "metadata": {},
   "outputs": [
    {
     "data": {
      "text/plain": [
       "15"
      ]
     },
     "execution_count": 9,
     "metadata": {},
     "output_type": "execute_result"
    }
   ],
   "source": [
    "x1^y1"
   ]
  },
  {
   "cell_type": "code",
   "execution_count": 10,
   "id": "b4f26904-2c5a-4072-b754-e4bf3f4dc539",
   "metadata": {},
   "outputs": [
    {
     "data": {
      "text/plain": [
       "15"
      ]
     },
     "execution_count": 10,
     "metadata": {},
     "output_type": "execute_result"
    }
   ],
   "source": [
    "x1+y1"
   ]
  },
  {
   "cell_type": "code",
   "execution_count": 11,
   "id": "b65e07a8-ccbc-48f0-8647-9cca8e49932b",
   "metadata": {},
   "outputs": [
    {
     "data": {
      "text/plain": [
       "5"
      ]
     },
     "execution_count": 11,
     "metadata": {},
     "output_type": "execute_result"
    }
   ],
   "source": [
    "x1-y1"
   ]
  },
  {
   "cell_type": "code",
   "execution_count": 12,
   "id": "a6dd80e6-63de-4ca1-9d8e-adb6ea0008f3",
   "metadata": {},
   "outputs": [
    {
     "data": {
      "text/plain": [
       "50"
      ]
     },
     "execution_count": 12,
     "metadata": {},
     "output_type": "execute_result"
    }
   ],
   "source": [
    "x1*y1"
   ]
  },
  {
   "cell_type": "code",
   "execution_count": 13,
   "id": "89f2121a-1d8f-45ca-8b6d-0354492a4e9e",
   "metadata": {},
   "outputs": [
    {
     "data": {
      "text/plain": [
       "2.0"
      ]
     },
     "execution_count": 13,
     "metadata": {},
     "output_type": "execute_result"
    }
   ],
   "source": [
    "x1/y1"
   ]
  },
  {
   "cell_type": "code",
   "execution_count": 14,
   "id": "4d17bf6d-d322-42ee-acc2-4b4e718c14e6",
   "metadata": {},
   "outputs": [
    {
     "data": {
      "text/plain": [
       "2"
      ]
     },
     "execution_count": 14,
     "metadata": {},
     "output_type": "execute_result"
    }
   ],
   "source": [
    "x1//y1"
   ]
  },
  {
   "cell_type": "code",
   "execution_count": 15,
   "id": "59598806-fd55-456c-ae3b-282c94d1deef",
   "metadata": {},
   "outputs": [
    {
     "data": {
      "text/plain": [
       "0"
      ]
     },
     "execution_count": 15,
     "metadata": {},
     "output_type": "execute_result"
    }
   ],
   "source": [
    "x1%y1"
   ]
  },
  {
   "cell_type": "code",
   "execution_count": 16,
   "id": "fd7d38c3-c30a-4d41-8d65-bd54b9ea3009",
   "metadata": {},
   "outputs": [
    {
     "data": {
      "text/plain": [
       "100000"
      ]
     },
     "execution_count": 16,
     "metadata": {},
     "output_type": "execute_result"
    }
   ],
   "source": [
    "x1**y1"
   ]
  },
  {
   "cell_type": "code",
   "execution_count": 17,
   "id": "744c71ce-f846-4c5a-b43c-4d009a924d38",
   "metadata": {},
   "outputs": [
    {
     "data": {
      "text/plain": [
       "9"
      ]
     },
     "execution_count": 17,
     "metadata": {},
     "output_type": "execute_result"
    }
   ],
   "source": [
    "x2=3\n",
    "y2=2\n",
    "x2**y2"
   ]
  },
  {
   "cell_type": "markdown",
   "id": "81c86663-ddb7-4b3e-96e1-8cc4983d5c8b",
   "metadata": {},
   "source": [
    "# ASSIGNMENT OPERATOR"
   ]
  },
  {
   "cell_type": "code",
   "execution_count": 20,
   "id": "9aeeefdc-4e9a-44ab-b3b0-f8baf01aa9d7",
   "metadata": {},
   "outputs": [],
   "source": [
    "x=2"
   ]
  },
  {
   "cell_type": "code",
   "execution_count": 22,
   "id": "e68120db-7bbd-44d3-9327-ab8e5ed57fa8",
   "metadata": {},
   "outputs": [
    {
     "data": {
      "text/plain": [
       "8"
      ]
     },
     "execution_count": 22,
     "metadata": {},
     "output_type": "execute_result"
    }
   ],
   "source": [
    "x=x+2\n",
    "x"
   ]
  },
  {
   "cell_type": "code",
   "execution_count": 24,
   "id": "86a1d563-66e6-4496-80c8-e65746dbfb18",
   "metadata": {},
   "outputs": [
    {
     "data": {
      "text/plain": [
       "12"
      ]
     },
     "execution_count": 24,
     "metadata": {},
     "output_type": "execute_result"
    }
   ],
   "source": [
    "x+=2\n",
    "x"
   ]
  },
  {
   "cell_type": "code",
   "execution_count": 26,
   "id": "87e0ffd8-3abe-4e40-8ea7-42b336199c73",
   "metadata": {},
   "outputs": [
    {
     "data": {
      "text/plain": [
       "22"
      ]
     },
     "execution_count": 26,
     "metadata": {},
     "output_type": "execute_result"
    }
   ],
   "source": [
    "x-=2\n",
    "x"
   ]
  },
  {
   "cell_type": "code",
   "execution_count": 25,
   "id": "f8cf1238-2bb0-4d66-816c-c2cdfcd1a384",
   "metadata": {},
   "outputs": [
    {
     "data": {
      "text/plain": [
       "24"
      ]
     },
     "execution_count": 25,
     "metadata": {},
     "output_type": "execute_result"
    }
   ],
   "source": [
    "x*=2\n",
    "x"
   ]
  },
  {
   "cell_type": "code",
   "execution_count": 27,
   "id": "94eb6cd0-d4eb-48a3-840f-a19a109d7d68",
   "metadata": {},
   "outputs": [
    {
     "data": {
      "text/plain": [
       "11.0"
      ]
     },
     "execution_count": 27,
     "metadata": {},
     "output_type": "execute_result"
    }
   ],
   "source": [
    "x/=2\n",
    "x"
   ]
  },
  {
   "cell_type": "code",
   "execution_count": 28,
   "id": "2782872f-5558-43c0-ab31-e99c34b47c59",
   "metadata": {},
   "outputs": [
    {
     "data": {
      "text/plain": [
       "5.0"
      ]
     },
     "execution_count": 28,
     "metadata": {},
     "output_type": "execute_result"
    }
   ],
   "source": [
    "x//=2\n",
    "x"
   ]
  },
  {
   "cell_type": "code",
   "execution_count": null,
   "id": "4c8ac7b1-559a-451f-8dce-3037fcf82b3d",
   "metadata": {},
   "outputs": [],
   "source": [
    "a,b=5,6  #assigning values in single line "
   ]
  },
  {
   "cell_type": "code",
   "execution_count": 29,
   "id": "3b3f151c-2384-40e9-bb44-1753cb767665",
   "metadata": {},
   "outputs": [
    {
     "ename": "NameError",
     "evalue": "name 'a' is not defined",
     "output_type": "error",
     "traceback": [
      "\u001b[1;31m---------------------------------------------------------------------------\u001b[0m",
      "\u001b[1;31mNameError\u001b[0m                                 Traceback (most recent call last)",
      "Cell \u001b[1;32mIn[29], line 1\u001b[0m\n\u001b[1;32m----> 1\u001b[0m a\n",
      "\u001b[1;31mNameError\u001b[0m: name 'a' is not defined"
     ]
    }
   ],
   "source": [
    "a"
   ]
  },
  {
   "cell_type": "code",
   "execution_count": 30,
   "id": "74a27a52-d7c9-4b85-bc8b-29cd4c8f7dce",
   "metadata": {},
   "outputs": [
    {
     "ename": "NameError",
     "evalue": "name 'b' is not defined",
     "output_type": "error",
     "traceback": [
      "\u001b[1;31m---------------------------------------------------------------------------\u001b[0m",
      "\u001b[1;31mNameError\u001b[0m                                 Traceback (most recent call last)",
      "Cell \u001b[1;32mIn[30], line 1\u001b[0m\n\u001b[1;32m----> 1\u001b[0m b\n",
      "\u001b[1;31mNameError\u001b[0m: name 'b' is not defined"
     ]
    }
   ],
   "source": [
    "b"
   ]
  },
  {
   "cell_type": "markdown",
   "id": "b1ab6efa-4c25-40b4-8572-ccf560014513",
   "metadata": {},
   "source": [
    "# UNARY OPERATOR"
   ]
  },
  {
   "cell_type": "code",
   "execution_count": 31,
   "id": "5f1daa1e-aa53-4a9b-a95b-d84712b09a1d",
   "metadata": {},
   "outputs": [
    {
     "data": {
      "text/plain": [
       "7"
      ]
     },
     "execution_count": 31,
     "metadata": {},
     "output_type": "execute_result"
    }
   ],
   "source": [
    "n=7\n",
    "n"
   ]
  },
  {
   "cell_type": "code",
   "execution_count": 32,
   "id": "79aac253-7257-4290-bf1b-7de906afebe5",
   "metadata": {},
   "outputs": [
    {
     "data": {
      "text/plain": [
       "-7"
      ]
     },
     "execution_count": 32,
     "metadata": {},
     "output_type": "execute_result"
    }
   ],
   "source": [
    "m=-(n)\n",
    "m"
   ]
  },
  {
   "cell_type": "code",
   "execution_count": 33,
   "id": "5f3b9b93-5694-4227-867b-01c8beb292e9",
   "metadata": {},
   "outputs": [
    {
     "data": {
      "text/plain": [
       "7"
      ]
     },
     "execution_count": 33,
     "metadata": {},
     "output_type": "execute_result"
    }
   ],
   "source": [
    "n"
   ]
  },
  {
   "cell_type": "code",
   "execution_count": 34,
   "id": "0b59eb48-5bda-4b03-a332-d8a8bb612e10",
   "metadata": {},
   "outputs": [
    {
     "data": {
      "text/plain": [
       "-7"
      ]
     },
     "execution_count": 34,
     "metadata": {},
     "output_type": "execute_result"
    }
   ],
   "source": [
    "-n"
   ]
  },
  {
   "cell_type": "markdown",
   "id": "0c1a4adc-8846-4dab-ac0e-451b222a297b",
   "metadata": {},
   "source": [
    "# RELATIONAL OPERATOR"
   ]
  },
  {
   "cell_type": "code",
   "execution_count": 35,
   "id": "2d18fc59-44d3-4c09-8621-1f346b608f6d",
   "metadata": {},
   "outputs": [],
   "source": [
    "# used for comparision"
   ]
  },
  {
   "cell_type": "code",
   "execution_count": 38,
   "id": "ac7a20ed-00ad-4247-b274-129dbd7662af",
   "metadata": {},
   "outputs": [],
   "source": [
    "a = 5\n",
    "b = 6"
   ]
  },
  {
   "cell_type": "code",
   "execution_count": 37,
   "id": "a873af9d-dc6a-4036-8f99-485e1fe55656",
   "metadata": {},
   "outputs": [
    {
     "ename": "NameError",
     "evalue": "name 'a' is not defined",
     "output_type": "error",
     "traceback": [
      "\u001b[1;31m---------------------------------------------------------------------------\u001b[0m",
      "\u001b[1;31mNameError\u001b[0m                                 Traceback (most recent call last)",
      "Cell \u001b[1;32mIn[37], line 1\u001b[0m\n\u001b[1;32m----> 1\u001b[0m a \u001b[38;5;241m<\u001b[39m b\n",
      "\u001b[1;31mNameError\u001b[0m: name 'a' is not defined"
     ]
    }
   ],
   "source": [
    "a < b"
   ]
  },
  {
   "cell_type": "code",
   "execution_count": 39,
   "id": "e3576497-1e80-4c8c-a380-8b9239dded94",
   "metadata": {},
   "outputs": [
    {
     "data": {
      "text/plain": [
       "False"
      ]
     },
     "execution_count": 39,
     "metadata": {},
     "output_type": "execute_result"
    }
   ],
   "source": [
    "a > b"
   ]
  },
  {
   "cell_type": "code",
   "execution_count": 40,
   "id": "be707a23-cb94-4509-afdd-2bbffeee7177",
   "metadata": {},
   "outputs": [
    {
     "data": {
      "text/plain": [
       "False"
      ]
     },
     "execution_count": 40,
     "metadata": {},
     "output_type": "execute_result"
    }
   ],
   "source": [
    "a==b"
   ]
  },
  {
   "cell_type": "code",
   "execution_count": 41,
   "id": "bc29e842-7493-4987-87c7-67de603391dd",
   "metadata": {},
   "outputs": [
    {
     "data": {
      "text/plain": [
       "True"
      ]
     },
     "execution_count": 41,
     "metadata": {},
     "output_type": "execute_result"
    }
   ],
   "source": [
    "a!=b"
   ]
  },
  {
   "cell_type": "code",
   "execution_count": 42,
   "id": "40d580dd-e312-430a-b0f3-c945755c9f99",
   "metadata": {},
   "outputs": [],
   "source": [
    "b=5"
   ]
  },
  {
   "cell_type": "code",
   "execution_count": 43,
   "id": "3858e42a-28c2-4a5d-9151-0503b6236de5",
   "metadata": {},
   "outputs": [
    {
     "data": {
      "text/plain": [
       "True"
      ]
     },
     "execution_count": 43,
     "metadata": {},
     "output_type": "execute_result"
    }
   ],
   "source": [
    "a==b"
   ]
  },
  {
   "cell_type": "code",
   "execution_count": 44,
   "id": "e0c7f9e1-7226-410a-ad72-0904b4566b6b",
   "metadata": {},
   "outputs": [
    {
     "data": {
      "text/plain": [
       "5"
      ]
     },
     "execution_count": 44,
     "metadata": {},
     "output_type": "execute_result"
    }
   ],
   "source": [
    "a"
   ]
  },
  {
   "cell_type": "code",
   "execution_count": 45,
   "id": "ac060363-ed35-4145-ae95-6643eb4a8ee5",
   "metadata": {},
   "outputs": [
    {
     "data": {
      "text/plain": [
       "5"
      ]
     },
     "execution_count": 45,
     "metadata": {},
     "output_type": "execute_result"
    }
   ],
   "source": [
    "b"
   ]
  },
  {
   "cell_type": "code",
   "execution_count": 46,
   "id": "8c84bf29-1bf6-4849-b83f-96418a6887dc",
   "metadata": {},
   "outputs": [
    {
     "data": {
      "text/plain": [
       "True"
      ]
     },
     "execution_count": 46,
     "metadata": {},
     "output_type": "execute_result"
    }
   ],
   "source": [
    "a>=b"
   ]
  },
  {
   "cell_type": "code",
   "execution_count": 47,
   "id": "39200c4a-2292-4384-ac42-e78b7caa5b12",
   "metadata": {},
   "outputs": [
    {
     "data": {
      "text/plain": [
       "True"
      ]
     },
     "execution_count": 47,
     "metadata": {},
     "output_type": "execute_result"
    }
   ],
   "source": [
    "a<=b"
   ]
  },
  {
   "cell_type": "code",
   "execution_count": 48,
   "id": "b6bae7c9-6de5-402d-aec3-16225edbc026",
   "metadata": {},
   "outputs": [
    {
     "data": {
      "text/plain": [
       "False"
      ]
     },
     "execution_count": 48,
     "metadata": {},
     "output_type": "execute_result"
    }
   ],
   "source": [
    "a<b"
   ]
  },
  {
   "cell_type": "code",
   "execution_count": 49,
   "id": "234263a1-f038-4532-8bfb-980692ac7e9a",
   "metadata": {},
   "outputs": [
    {
     "data": {
      "text/plain": [
       "False"
      ]
     },
     "execution_count": 49,
     "metadata": {},
     "output_type": "execute_result"
    }
   ],
   "source": [
    "a>b"
   ]
  },
  {
   "cell_type": "code",
   "execution_count": 50,
   "id": "dd772b53-a0d9-4b5b-90de-751b6c8e8f30",
   "metadata": {},
   "outputs": [],
   "source": [
    "b=7"
   ]
  },
  {
   "cell_type": "code",
   "execution_count": 51,
   "id": "51892632-143c-4323-b3f8-7a2dbb4f61b7",
   "metadata": {},
   "outputs": [
    {
     "data": {
      "text/plain": [
       "True"
      ]
     },
     "execution_count": 51,
     "metadata": {},
     "output_type": "execute_result"
    }
   ],
   "source": [
    "a!=b"
   ]
  },
  {
   "cell_type": "markdown",
   "id": "6fa04bbd-4d2d-42ab-8ac5-020a538fe8a1",
   "metadata": {},
   "source": [
    "# LOGICAL OPERATOR"
   ]
  },
  {
   "cell_type": "code",
   "execution_count": 52,
   "id": "db25acb6-cdfd-4d17-932b-9b1c11d4aa8d",
   "metadata": {},
   "outputs": [],
   "source": [
    "a=5\n",
    "b=4"
   ]
  },
  {
   "cell_type": "code",
   "execution_count": 53,
   "id": "1523de1e-639c-41fd-b205-ab8ee28f5dbb",
   "metadata": {},
   "outputs": [
    {
     "data": {
      "text/plain": [
       "True"
      ]
     },
     "execution_count": 53,
     "metadata": {},
     "output_type": "execute_result"
    }
   ],
   "source": [
    "a < 8 and b < 5"
   ]
  },
  {
   "cell_type": "code",
   "execution_count": 54,
   "id": "4a984233-af3c-4e78-a4f1-6dc7aa39e47d",
   "metadata": {},
   "outputs": [
    {
     "data": {
      "text/plain": [
       "False"
      ]
     },
     "execution_count": 54,
     "metadata": {},
     "output_type": "execute_result"
    }
   ],
   "source": [
    "a < 8 and b < 2 "
   ]
  },
  {
   "cell_type": "code",
   "execution_count": 55,
   "id": "b5f79cd0-ec09-49d5-9c8a-a83c8eb9e366",
   "metadata": {},
   "outputs": [
    {
     "data": {
      "text/plain": [
       "True"
      ]
     },
     "execution_count": 55,
     "metadata": {},
     "output_type": "execute_result"
    }
   ],
   "source": [
    "a < 8 or b < 2"
   ]
  },
  {
   "cell_type": "code",
   "execution_count": 56,
   "id": "fe943de1-0134-477e-aaea-495ca81df44f",
   "metadata": {},
   "outputs": [
    {
     "data": {
      "text/plain": [
       "False"
      ]
     },
     "execution_count": 56,
     "metadata": {},
     "output_type": "execute_result"
    }
   ],
   "source": [
    "a > 8 or b < 2"
   ]
  },
  {
   "cell_type": "code",
   "execution_count": 57,
   "id": "b78f2d9e-66a9-4d62-951a-ad5f0f50dbf3",
   "metadata": {},
   "outputs": [
    {
     "data": {
      "text/plain": [
       "False"
      ]
     },
     "execution_count": 57,
     "metadata": {},
     "output_type": "execute_result"
    }
   ],
   "source": [
    "x = False\n",
    "x"
   ]
  },
  {
   "cell_type": "code",
   "execution_count": 58,
   "id": "5bb1cd27-b513-4ff7-a37a-9e08995c7ae6",
   "metadata": {},
   "outputs": [
    {
     "data": {
      "text/plain": [
       "True"
      ]
     },
     "execution_count": 58,
     "metadata": {},
     "output_type": "execute_result"
    }
   ],
   "source": [
    "not x"
   ]
  }
 ],
 "metadata": {
  "kernelspec": {
   "display_name": "Python 3 (ipykernel)",
   "language": "python",
   "name": "python3"
  },
  "language_info": {
   "codemirror_mode": {
    "name": "ipython",
    "version": 3
   },
   "file_extension": ".py",
   "mimetype": "text/x-python",
   "name": "python",
   "nbconvert_exporter": "python",
   "pygments_lexer": "ipython3",
   "version": "3.13.5"
  }
 },
 "nbformat": 4,
 "nbformat_minor": 5
}
