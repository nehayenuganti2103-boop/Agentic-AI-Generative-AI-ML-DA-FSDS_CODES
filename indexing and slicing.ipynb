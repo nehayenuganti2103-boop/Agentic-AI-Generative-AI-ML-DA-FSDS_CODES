{
 "cells": [
  {
   "cell_type": "markdown",
   "id": "bcf25de6-486c-48c2-9df5-68dfc140596b",
   "metadata": {},
   "source": [
    "# 17th"
   ]
  },
  {
   "cell_type": "code",
   "execution_count": 2,
   "id": "a0ad397b-59a3-4abc-b98c-69f41e092dc9",
   "metadata": {},
   "outputs": [
    {
     "data": {
      "text/plain": [
       "1.0"
      ]
     },
     "execution_count": 2,
     "metadata": {},
     "output_type": "execute_result"
    }
   ],
   "source": [
    "f=1e0\n",
    "f"
   ]
  },
  {
   "cell_type": "code",
   "execution_count": 4,
   "id": "b96a6cce-1017-409c-93b1-d00e71a4520f",
   "metadata": {},
   "outputs": [
    {
     "data": {
      "text/plain": [
       "20.0"
      ]
     },
     "execution_count": 4,
     "metadata": {},
     "output_type": "execute_result"
    }
   ],
   "source": [
    "f1=2e1\n",
    "f1"
   ]
  },
  {
   "cell_type": "code",
   "execution_count": 6,
   "id": "da406367-bc43-4df4-b867-30e2afc96604",
   "metadata": {},
   "outputs": [
    {
     "data": {
      "text/plain": [
       "240.0"
      ]
     },
     "execution_count": 6,
     "metadata": {},
     "output_type": "execute_result"
    }
   ],
   "source": [
    "f2=2.4e2\n",
    "f2"
   ]
  },
  {
   "cell_type": "code",
   "execution_count": 8,
   "id": "20085616-dc51-4a95-9595-2112679a8984",
   "metadata": {},
   "outputs": [
    {
     "data": {
      "text/plain": [
       "2500.0"
      ]
     },
     "execution_count": 8,
     "metadata": {},
     "output_type": "execute_result"
    }
   ],
   "source": [
    "f3=2.5e3\n",
    "f3"
   ]
  },
  {
   "cell_type": "code",
   "execution_count": 9,
   "id": "b8ef7762-120c-44e3-81fb-152aa7f9c1e3",
   "metadata": {},
   "outputs": [
    {
     "data": {
      "text/plain": [
       "float"
      ]
     },
     "execution_count": 9,
     "metadata": {},
     "output_type": "execute_result"
    }
   ],
   "source": [
    "type(f3)"
   ]
  },
  {
   "cell_type": "code",
   "execution_count": 10,
   "id": "9793a8d6-bb1d-4eaa-909d-addc67e24437",
   "metadata": {},
   "outputs": [
    {
     "data": {
      "text/plain": [
       "float"
      ]
     },
     "execution_count": 10,
     "metadata": {},
     "output_type": "execute_result"
    }
   ],
   "source": [
    "import numpy as np\n",
    "a= np.nan\n",
    "type(a)"
   ]
  },
  {
   "cell_type": "code",
   "execution_count": 11,
   "id": "aef6c101-29dc-4ca8-906d-8acfe6e99f50",
   "metadata": {},
   "outputs": [
    {
     "data": {
      "text/plain": [
       "34"
      ]
     },
     "execution_count": 11,
     "metadata": {},
     "output_type": "execute_result"
    }
   ],
   "source": [
    "i=34\n",
    "i"
   ]
  },
  {
   "cell_type": "code",
   "execution_count": 12,
   "id": "25654f05-4ced-45ea-bac1-2445251039af",
   "metadata": {},
   "outputs": [
    {
     "data": {
      "text/plain": [
       "140727642601416"
      ]
     },
     "execution_count": 12,
     "metadata": {},
     "output_type": "execute_result"
    }
   ],
   "source": [
    "id(i)"
   ]
  },
  {
   "cell_type": "code",
   "execution_count": 14,
   "id": "349eb944-818c-4c7d-8edb-b10d907062da",
   "metadata": {},
   "outputs": [
    {
     "name": "stdout",
     "output_type": "stream",
     "text": [
      "140727642600968\n",
      "140727642600968\n",
      "140727642600968\n",
      "140727642601288\n"
     ]
    }
   ],
   "source": [
    "p=20\n",
    "q=20\n",
    "r=20\n",
    "print(id(p))\n",
    "print(id(q))\n",
    "print(id(r))\n",
    "s=30\n",
    "print(id(s))"
   ]
  },
  {
   "cell_type": "markdown",
   "id": "3fd80247-716d-49a7-a0dc-e6ffcd9497e2",
   "metadata": {},
   "source": [
    "# String Indexing "
   ]
  },
  {
   "cell_type": "code",
   "execution_count": 15,
   "id": "286e4612-4704-491f-87c9-34a25a3ec92c",
   "metadata": {},
   "outputs": [
    {
     "ename": "NameError",
     "evalue": "name 'hello' is not defined",
     "output_type": "error",
     "traceback": [
      "\u001b[1;31m---------------------------------------------------------------------------\u001b[0m",
      "\u001b[1;31mNameError\u001b[0m                                 Traceback (most recent call last)",
      "Cell \u001b[1;32mIn[15], line 1\u001b[0m\n\u001b[1;32m----> 1\u001b[0m \u001b[38;5;28mstr\u001b[39m\u001b[38;5;241m=\u001b[39mhello\n\u001b[0;32m      2\u001b[0m \u001b[38;5;28mstr\u001b[39m\n",
      "\u001b[1;31mNameError\u001b[0m: name 'hello' is not defined"
     ]
    }
   ],
   "source": [
    "str=hello\n",
    "str"
   ]
  },
  {
   "cell_type": "code",
   "execution_count": 16,
   "id": "5383ff5b-0602-44ee-b95f-e52c743b6b2e",
   "metadata": {},
   "outputs": [
    {
     "data": {
      "text/plain": [
       "'hello'"
      ]
     },
     "execution_count": 16,
     "metadata": {},
     "output_type": "execute_result"
    }
   ],
   "source": [
    "str='hello'\n",
    "str"
   ]
  },
  {
   "cell_type": "code",
   "execution_count": 17,
   "id": "8d931059-8e66-423c-9a11-ec808cd56af2",
   "metadata": {},
   "outputs": [
    {
     "data": {
      "text/plain": [
       "'h'"
      ]
     },
     "execution_count": 17,
     "metadata": {},
     "output_type": "execute_result"
    }
   ],
   "source": [
    "str[0]"
   ]
  },
  {
   "cell_type": "code",
   "execution_count": 18,
   "id": "af919bf2-d145-4d0c-9c7c-4ef60ef58281",
   "metadata": {},
   "outputs": [
    {
     "data": {
      "text/plain": [
       "'e'"
      ]
     },
     "execution_count": 18,
     "metadata": {},
     "output_type": "execute_result"
    }
   ],
   "source": [
    "str[1]"
   ]
  },
  {
   "cell_type": "code",
   "execution_count": 19,
   "id": "04a1066e-4706-483f-bad5-6a0f5302e634",
   "metadata": {},
   "outputs": [
    {
     "data": {
      "text/plain": [
       "'l'"
      ]
     },
     "execution_count": 19,
     "metadata": {},
     "output_type": "execute_result"
    }
   ],
   "source": [
    "str[2]"
   ]
  },
  {
   "cell_type": "code",
   "execution_count": 20,
   "id": "52144bfd-2a4c-4435-906a-17579946df44",
   "metadata": {},
   "outputs": [
    {
     "data": {
      "text/plain": [
       "'l'"
      ]
     },
     "execution_count": 20,
     "metadata": {},
     "output_type": "execute_result"
    }
   ],
   "source": [
    "str[3]"
   ]
  },
  {
   "cell_type": "code",
   "execution_count": 21,
   "id": "8d50de18-14e6-45a8-9cbd-bb897fb84454",
   "metadata": {},
   "outputs": [
    {
     "data": {
      "text/plain": [
       "'o'"
      ]
     },
     "execution_count": 21,
     "metadata": {},
     "output_type": "execute_result"
    }
   ],
   "source": [
    "str[4]"
   ]
  },
  {
   "cell_type": "code",
   "execution_count": 22,
   "id": "3d7326df-7105-4aad-aadd-c075295821ae",
   "metadata": {},
   "outputs": [
    {
     "ename": "IndexError",
     "evalue": "string index out of range",
     "output_type": "error",
     "traceback": [
      "\u001b[1;31m---------------------------------------------------------------------------\u001b[0m",
      "\u001b[1;31mIndexError\u001b[0m                                Traceback (most recent call last)",
      "Cell \u001b[1;32mIn[22], line 1\u001b[0m\n\u001b[1;32m----> 1\u001b[0m \u001b[38;5;28mstr\u001b[39m[\u001b[38;5;241m5\u001b[39m]\n",
      "\u001b[1;31mIndexError\u001b[0m: string index out of range"
     ]
    }
   ],
   "source": [
    "str[5]"
   ]
  },
  {
   "cell_type": "code",
   "execution_count": 24,
   "id": "d6ffd4c0-5bb0-425c-a288-8f98cb06b3fc",
   "metadata": {},
   "outputs": [
    {
     "data": {
      "text/plain": [
       "'hello'"
      ]
     },
     "execution_count": 24,
     "metadata": {},
     "output_type": "execute_result"
    }
   ],
   "source": [
    "str"
   ]
  },
  {
   "cell_type": "code",
   "execution_count": 27,
   "id": "d26891df-40d6-4de4-851b-d78ef13e64c6",
   "metadata": {},
   "outputs": [
    {
     "name": "stdout",
     "output_type": "stream",
     "text": [
      "h\n",
      "e\n",
      "l\n",
      "l\n",
      "o\n"
     ]
    }
   ],
   "source": [
    "print(str[0])\n",
    "print(str[1])\n",
    "print(str[2])\n",
    "print(str[3])\n",
    "print(str[4])"
   ]
  },
  {
   "cell_type": "code",
   "execution_count": 29,
   "id": "1f686e17-9dd6-4ba5-b3a6-386647af45d7",
   "metadata": {},
   "outputs": [
    {
     "data": {
      "text/plain": [
       "'hello'"
      ]
     },
     "execution_count": 29,
     "metadata": {},
     "output_type": "execute_result"
    }
   ],
   "source": [
    "str"
   ]
  },
  {
   "cell_type": "code",
   "execution_count": 30,
   "id": "27bfd8d7-7673-4ba6-a18a-9f767822e664",
   "metadata": {},
   "outputs": [
    {
     "ename": "IndexError",
     "evalue": "string index out of range",
     "output_type": "error",
     "traceback": [
      "\u001b[1;31m---------------------------------------------------------------------------\u001b[0m",
      "\u001b[1;31mIndexError\u001b[0m                                Traceback (most recent call last)",
      "Cell \u001b[1;32mIn[30], line 1\u001b[0m\n\u001b[1;32m----> 1\u001b[0m \u001b[38;5;28mprint\u001b[39m(\u001b[38;5;28mstr\u001b[39m[\u001b[38;5;241m5\u001b[39m])\n",
      "\u001b[1;31mIndexError\u001b[0m: string index out of range"
     ]
    }
   ],
   "source": [
    "print(str[5])"
   ]
  },
  {
   "cell_type": "code",
   "execution_count": 32,
   "id": "5abda1dc-09c3-4c81-8789-d46851afb044",
   "metadata": {},
   "outputs": [
    {
     "name": "stdout",
     "output_type": "stream",
     "text": [
      "hello\n"
     ]
    }
   ],
   "source": [
    "print(str)"
   ]
  },
  {
   "cell_type": "code",
   "execution_count": 33,
   "id": "5d5f8255-529f-43dd-a636-772a2050b5df",
   "metadata": {},
   "outputs": [
    {
     "data": {
      "text/plain": [
       "'hello'"
      ]
     },
     "execution_count": 33,
     "metadata": {},
     "output_type": "execute_result"
    }
   ],
   "source": [
    "str"
   ]
  },
  {
   "cell_type": "code",
   "execution_count": 34,
   "id": "d00f4c89-f04c-4bad-be33-61a83788e370",
   "metadata": {},
   "outputs": [
    {
     "name": "stdout",
     "output_type": "stream",
     "text": [
      "o\n",
      "l\n",
      "l\n",
      "e\n",
      "h\n"
     ]
    }
   ],
   "source": [
    "print(str[-1])\n",
    "print(str[-2])\n",
    "print(str[-3])\n",
    "print(str[-4])\n",
    "print(str[-5])"
   ]
  },
  {
   "cell_type": "code",
   "execution_count": 35,
   "id": "a10199ac-ff33-476e-b774-7dbb1c50e698",
   "metadata": {},
   "outputs": [
    {
     "ename": "IndexError",
     "evalue": "string index out of range",
     "output_type": "error",
     "traceback": [
      "\u001b[1;31m---------------------------------------------------------------------------\u001b[0m",
      "\u001b[1;31mIndexError\u001b[0m                                Traceback (most recent call last)",
      "Cell \u001b[1;32mIn[35], line 1\u001b[0m\n\u001b[1;32m----> 1\u001b[0m \u001b[38;5;28mprint\u001b[39m(\u001b[38;5;28mstr\u001b[39m[\u001b[38;5;241m-\u001b[39m\u001b[38;5;241m6\u001b[39m])\n",
      "\u001b[1;31mIndexError\u001b[0m: string index out of range"
     ]
    }
   ],
   "source": [
    "print(str[-6])"
   ]
  },
  {
   "cell_type": "code",
   "execution_count": 36,
   "id": "9512a7f9-b63d-4679-bbbe-6eea15a15bd3",
   "metadata": {},
   "outputs": [
    {
     "data": {
      "text/plain": [
       "5"
      ]
     },
     "execution_count": 36,
     "metadata": {},
     "output_type": "execute_result"
    }
   ],
   "source": [
    "len(str)"
   ]
  },
  {
   "cell_type": "markdown",
   "id": "bd3a987d-34a9-4321-8659-9ce57ad9612e",
   "metadata": {},
   "source": [
    "# String Slicing"
   ]
  },
  {
   "cell_type": "code",
   "execution_count": 37,
   "id": "501fabd1-9db4-4abc-a81c-ff1188d6bfdb",
   "metadata": {},
   "outputs": [
    {
     "data": {
      "text/plain": [
       "'hello python'"
      ]
     },
     "execution_count": 37,
     "metadata": {},
     "output_type": "execute_result"
    }
   ],
   "source": [
    "s1='hello python'\n",
    "s1"
   ]
  },
  {
   "cell_type": "code",
   "execution_count": 40,
   "id": "dcbe261a-f63c-497c-9ab7-43342cfcb476",
   "metadata": {},
   "outputs": [
    {
     "data": {
      "text/plain": [
       "'hello py'"
      ]
     },
     "execution_count": 40,
     "metadata": {},
     "output_type": "execute_result"
    }
   ],
   "source": [
    "s1[0:8]"
   ]
  },
  {
   "cell_type": "code",
   "execution_count": 42,
   "id": "c76f02ad-d9dc-4ba9-93c6-57eba73d33f8",
   "metadata": {},
   "outputs": [
    {
     "data": {
      "text/plain": [
       "'hello python'"
      ]
     },
     "execution_count": 42,
     "metadata": {},
     "output_type": "execute_result"
    }
   ],
   "source": [
    "s1"
   ]
  },
  {
   "cell_type": "code",
   "execution_count": 46,
   "id": "1dba333a-8d63-4ade-b813-04ae0693154d",
   "metadata": {},
   "outputs": [
    {
     "data": {
      "text/plain": [
       "'hlopto'"
      ]
     },
     "execution_count": 46,
     "metadata": {},
     "output_type": "execute_result"
    }
   ],
   "source": [
    "s1[0:11:2]"
   ]
  },
  {
   "cell_type": "code",
   "execution_count": 47,
   "id": "d0429b3d-1c86-4ad9-b891-c63faf7ab905",
   "metadata": {},
   "outputs": [
    {
     "data": {
      "text/plain": [
       "'hello python'"
      ]
     },
     "execution_count": 47,
     "metadata": {},
     "output_type": "execute_result"
    }
   ],
   "source": [
    "s1"
   ]
  },
  {
   "cell_type": "code",
   "execution_count": 48,
   "id": "c1c8e823-f17e-4235-a154-e6488851d1d3",
   "metadata": {},
   "outputs": [
    {
     "data": {
      "text/plain": [
       "'hello python'"
      ]
     },
     "execution_count": 48,
     "metadata": {},
     "output_type": "execute_result"
    }
   ],
   "source": [
    "s1[::1]"
   ]
  },
  {
   "cell_type": "code",
   "execution_count": 49,
   "id": "fb10d4fc-e09a-4643-aebe-131f9ef5dbbe",
   "metadata": {},
   "outputs": [
    {
     "data": {
      "text/plain": [
       "'hlopto'"
      ]
     },
     "execution_count": 49,
     "metadata": {},
     "output_type": "execute_result"
    }
   ],
   "source": [
    "s1[::2]"
   ]
  },
  {
   "cell_type": "code",
   "execution_count": 50,
   "id": "e556805f-a277-4bce-afdb-cea2d75b8b15",
   "metadata": {},
   "outputs": [
    {
     "data": {
      "text/plain": [
       "'hlph'"
      ]
     },
     "execution_count": 50,
     "metadata": {},
     "output_type": "execute_result"
    }
   ],
   "source": [
    "s1[::3]"
   ]
  },
  {
   "cell_type": "code",
   "execution_count": 51,
   "id": "4d032962-5c17-4c86-b1b5-9d17db527c33",
   "metadata": {},
   "outputs": [
    {
     "data": {
      "text/plain": [
       "'hot'"
      ]
     },
     "execution_count": 51,
     "metadata": {},
     "output_type": "execute_result"
    }
   ],
   "source": [
    "s1[::4]"
   ]
  },
  {
   "cell_type": "code",
   "execution_count": 52,
   "id": "fe3fce39-9df9-46d4-b5a3-73870a27bfda",
   "metadata": {},
   "outputs": [
    {
     "data": {
      "text/plain": [
       "'h o'"
      ]
     },
     "execution_count": 52,
     "metadata": {},
     "output_type": "execute_result"
    }
   ],
   "source": [
    "s1[::5]"
   ]
  },
  {
   "cell_type": "code",
   "execution_count": 53,
   "id": "09028e2a-357d-4c53-b8e6-aa1bf375036c",
   "metadata": {},
   "outputs": [
    {
     "data": {
      "text/plain": [
       "'hp'"
      ]
     },
     "execution_count": 53,
     "metadata": {},
     "output_type": "execute_result"
    }
   ],
   "source": [
    "s1[::6]"
   ]
  },
  {
   "cell_type": "code",
   "execution_count": 54,
   "id": "c3d56bd3-ed4c-4980-ba44-d3ebf5bf4dc1",
   "metadata": {},
   "outputs": [
    {
     "data": {
      "text/plain": [
       "'hy'"
      ]
     },
     "execution_count": 54,
     "metadata": {},
     "output_type": "execute_result"
    }
   ],
   "source": [
    "s1[::7]"
   ]
  },
  {
   "cell_type": "code",
   "execution_count": 55,
   "id": "10e0bda0-f7bc-473d-8fe0-bcb95528e4e7",
   "metadata": {},
   "outputs": [
    {
     "data": {
      "text/plain": [
       "'ht'"
      ]
     },
     "execution_count": 55,
     "metadata": {},
     "output_type": "execute_result"
    }
   ],
   "source": [
    "s1[::8]"
   ]
  },
  {
   "cell_type": "code",
   "execution_count": 56,
   "id": "c1c766d3-0e8f-40b7-a2f4-e0272e988f7d",
   "metadata": {},
   "outputs": [
    {
     "data": {
      "text/plain": [
       "'hh'"
      ]
     },
     "execution_count": 56,
     "metadata": {},
     "output_type": "execute_result"
    }
   ],
   "source": [
    "s1[::9]"
   ]
  },
  {
   "cell_type": "code",
   "execution_count": 57,
   "id": "d8f22f82-ae3d-4cb4-b376-11ba0721432b",
   "metadata": {},
   "outputs": [
    {
     "data": {
      "text/plain": [
       "'ho'"
      ]
     },
     "execution_count": 57,
     "metadata": {},
     "output_type": "execute_result"
    }
   ],
   "source": [
    "s1[::10]"
   ]
  },
  {
   "cell_type": "code",
   "execution_count": 58,
   "id": "48b7df53-eb1d-481d-b18d-b26521732a80",
   "metadata": {},
   "outputs": [
    {
     "data": {
      "text/plain": [
       "'hn'"
      ]
     },
     "execution_count": 58,
     "metadata": {},
     "output_type": "execute_result"
    }
   ],
   "source": [
    "s1[::11]"
   ]
  },
  {
   "cell_type": "code",
   "execution_count": 59,
   "id": "70b281f3-0eb4-4974-847f-88da0af52122",
   "metadata": {},
   "outputs": [
    {
     "data": {
      "text/plain": [
       "'h'"
      ]
     },
     "execution_count": 59,
     "metadata": {},
     "output_type": "execute_result"
    }
   ],
   "source": [
    "s1[::12]"
   ]
  },
  {
   "cell_type": "code",
   "execution_count": 60,
   "id": "cef62e83-7985-4696-8d99-07ec8609aa3f",
   "metadata": {},
   "outputs": [
    {
     "data": {
      "text/plain": [
       "'h'"
      ]
     },
     "execution_count": 60,
     "metadata": {},
     "output_type": "execute_result"
    }
   ],
   "source": [
    "s1[::13]"
   ]
  },
  {
   "cell_type": "code",
   "execution_count": 61,
   "id": "5e91d344-76e8-4bf6-826f-16fa8b13d3ee",
   "metadata": {},
   "outputs": [
    {
     "data": {
      "text/plain": [
       "'h'"
      ]
     },
     "execution_count": 61,
     "metadata": {},
     "output_type": "execute_result"
    }
   ],
   "source": [
    "s1[::14]"
   ]
  },
  {
   "cell_type": "code",
   "execution_count": 62,
   "id": "64719982-832f-49db-bf41-5d3071d5a357",
   "metadata": {},
   "outputs": [
    {
     "data": {
      "text/plain": [
       "'h'"
      ]
     },
     "execution_count": 62,
     "metadata": {},
     "output_type": "execute_result"
    }
   ],
   "source": [
    "s1[::15]"
   ]
  },
  {
   "cell_type": "markdown",
   "id": "6069df42-c83f-43a4-ac02-b03ef0faba70",
   "metadata": {},
   "source": [
    "# String Concatenation"
   ]
  },
  {
   "cell_type": "code",
   "execution_count": 66,
   "id": "6183f9d8-3872-4655-bef8-cbb1c8142858",
   "metadata": {},
   "outputs": [
    {
     "name": "stdout",
     "output_type": "stream",
     "text": [
      "HelloWorld\n"
     ]
    }
   ],
   "source": [
    "s2='Hello'\n",
    "s3='World'\n",
    "print(s2+s3)"
   ]
  },
  {
   "cell_type": "code",
   "execution_count": 67,
   "id": "feac9329-49ea-42c5-b340-97d3e2e475b8",
   "metadata": {},
   "outputs": [
    {
     "name": "stdout",
     "output_type": "stream",
     "text": [
      "HelloWorldhello python\n"
     ]
    }
   ],
   "source": [
    "print(s2+s3+s1)"
   ]
  },
  {
   "cell_type": "code",
   "execution_count": 70,
   "id": "3158770d-0145-4bf4-95c6-f4a0b3bed212",
   "metadata": {},
   "outputs": [
    {
     "name": "stdout",
     "output_type": "stream",
     "text": [
      "HI THERE\n"
     ]
    }
   ],
   "source": [
    "s4='HI'\n",
    "s5=' THERE'\n",
    "print(s4+s5)"
   ]
  },
  {
   "cell_type": "code",
   "execution_count": 77,
   "id": "113a4265-2aed-4b88-9619-e9898c8b6300",
   "metadata": {},
   "outputs": [
    {
     "name": "stdout",
     "output_type": "stream",
     "text": [
      "EVERYONE\n"
     ]
    }
   ],
   "source": [
    "s4='EVERY'\n",
    "s5='ONE'\n",
    "print(s4+s5)"
   ]
  },
  {
   "cell_type": "code",
   "execution_count": null,
   "id": "5f96ed60-801c-4578-adc3-cffbf501eae3",
   "metadata": {},
   "outputs": [],
   "source": []
  }
 ],
 "metadata": {
  "kernelspec": {
   "display_name": "Python 3 (ipykernel)",
   "language": "python",
   "name": "python3"
  },
  "language_info": {
   "codemirror_mode": {
    "name": "ipython",
    "version": 3
   },
   "file_extension": ".py",
   "mimetype": "text/x-python",
   "name": "python",
   "nbconvert_exporter": "python",
   "pygments_lexer": "ipython3",
   "version": "3.13.5"
  }
 },
 "nbformat": 4,
 "nbformat_minor": 5
}
