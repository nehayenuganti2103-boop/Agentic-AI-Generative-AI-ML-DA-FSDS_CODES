{
 "cells": [
  {
   "cell_type": "markdown",
   "id": "1b785c0c-a700-4fd3-bd7e-6f0f96872696",
   "metadata": {},
   "source": [
    "# Print() Statements "
   ]
  },
  {
   "cell_type": "code",
   "execution_count": 3,
   "id": "4c742748-d43c-4154-bd1e-93a651664fb5",
   "metadata": {},
   "outputs": [],
   "source": [
    "a=10\n",
    "b=20"
   ]
  },
  {
   "cell_type": "code",
   "execution_count": 4,
   "id": "d43c2c91-ce82-4e41-a56d-ef77913e45b5",
   "metadata": {},
   "outputs": [
    {
     "data": {
      "text/plain": [
       "10"
      ]
     },
     "execution_count": 4,
     "metadata": {},
     "output_type": "execute_result"
    }
   ],
   "source": [
    "a"
   ]
  },
  {
   "cell_type": "code",
   "execution_count": 5,
   "id": "cf8a01bb-08fa-4a50-8ea3-59e7d757f5e7",
   "metadata": {},
   "outputs": [
    {
     "data": {
      "text/plain": [
       "20"
      ]
     },
     "execution_count": 5,
     "metadata": {},
     "output_type": "execute_result"
    }
   ],
   "source": [
    "b"
   ]
  },
  {
   "cell_type": "code",
   "execution_count": 6,
   "id": "e4ca752d-11b7-4eba-91bc-bb10d06d205e",
   "metadata": {},
   "outputs": [
    {
     "name": "stdout",
     "output_type": "stream",
     "text": [
      "10\n",
      "20\n"
     ]
    }
   ],
   "source": [
    "print(a)\n",
    "print(b)"
   ]
  },
  {
   "cell_type": "code",
   "execution_count": 7,
   "id": "b7a66872-07d0-4620-b725-459f7d0eb4c2",
   "metadata": {},
   "outputs": [
    {
     "name": "stdout",
     "output_type": "stream",
     "text": [
      "10\n",
      "20\n",
      "10 20\n",
      "python\n",
      "10 20 python\n"
     ]
    }
   ],
   "source": [
    "print(10)\n",
    "print(20)\n",
    "print(10,20)\n",
    "print('python')\n",
    "print(10,20,'python')"
   ]
  },
  {
   "cell_type": "code",
   "execution_count": 8,
   "id": "3152a9c4-67f7-45b8-ba03-c56593c1761f",
   "metadata": {},
   "outputs": [
    {
     "name": "stdout",
     "output_type": "stream",
     "text": [
      "50\n"
     ]
    }
   ],
   "source": [
    "num1=20\n",
    "num2=30\n",
    "add=num1+num2\n",
    "print(add)"
   ]
  },
  {
   "cell_type": "markdown",
   "id": "e1029df7-6fd3-4d69-8fa0-fc869d14e69e",
   "metadata": {},
   "source": [
    "# print result with string"
   ]
  },
  {
   "cell_type": "code",
   "execution_count": 10,
   "id": "0363bd8a-19f7-4019-80ea-5635d88c9d08",
   "metadata": {},
   "outputs": [
    {
     "name": "stdout",
     "output_type": "stream",
     "text": [
      "The addition of 20 and 30 is = 50\n"
     ]
    }
   ],
   "source": [
    "num1=20\n",
    "num2=30\n",
    "add=num1+num2\n",
    "print('The addition of',num1,'and',num2,'is =',add)"
   ]
  },
  {
   "cell_type": "code",
   "execution_count": 11,
   "id": "8f01a708-a60f-4a9e-988e-44785b308f40",
   "metadata": {},
   "outputs": [
    {
     "name": "stdout",
     "output_type": "stream",
     "text": [
      "Myself Ayesha and i am 23 years old from Pune\n"
     ]
    }
   ],
   "source": [
    "name='Ayesha'\n",
    "age=23\n",
    "city='Pune'\n",
    "print('Myself',name, 'and i am',age,'years old','from',city)"
   ]
  },
  {
   "cell_type": "markdown",
   "id": "8989fe2d-d6fa-46a4-8af0-01d58cc22542",
   "metadata": {},
   "source": [
    "# print format method"
   ]
  },
  {
   "cell_type": "code",
   "execution_count": 13,
   "id": "ff17e056-97fa-4e1d-abc0-68cd5e4b0995",
   "metadata": {},
   "outputs": [
    {
     "name": "stdout",
     "output_type": "stream",
     "text": [
      "the sum of 20 and 30 is 50\n"
     ]
    }
   ],
   "source": [
    "num1=20\n",
    "num2=30\n",
    "add=num1+num2\n",
    "print('the sum of {} and {} is {}'.format(num1,num2,add))"
   ]
  },
  {
   "cell_type": "code",
   "execution_count": 15,
   "id": "f70959f9-34d8-4cfe-b785-0ac7618b4a7c",
   "metadata": {},
   "outputs": [
    {
     "name": "stdout",
     "output_type": "stream",
     "text": [
      "Hi Myself Ayesha, and i am 23 years old , from Pune\n"
     ]
    }
   ],
   "source": [
    "name='Ayesha'\n",
    "age=23\n",
    "city='Pune'\n",
    "print('Hi Myself {}, and i am {} years old , from {}'.format(name,age,city))"
   ]
  },
  {
   "cell_type": "code",
   "execution_count": 3,
   "id": "faa8b576-8c76-4191-812e-b0c80c994176",
   "metadata": {},
   "outputs": [
    {
     "name": "stdout",
     "output_type": "stream",
     "text": [
      "The Average of 100 , 25 and 333 is = 152.66666666666666 or 152.67\n"
     ]
    }
   ],
   "source": [
    "num1=100\n",
    "num2=25\n",
    "num3=333\n",
    "avg=(num1+num2+num3)/3\n",
    "avg1=round((num1+num2+num3)/3,2)\n",
    "print('The Average of {} , {} and {} is = {} or {}'.format(num1,num2,num3,avg,avg1))"
   ]
  },
  {
   "cell_type": "code",
   "execution_count": 6,
   "id": "bbfe6afa-f0dc-4b46-b30c-44f0e9846f11",
   "metadata": {},
   "outputs": [
    {
     "data": {
      "text/plain": [
       "152.6667"
      ]
     },
     "execution_count": 6,
     "metadata": {},
     "output_type": "execute_result"
    }
   ],
   "source": [
    "round(avg,4)"
   ]
  },
  {
   "cell_type": "markdown",
   "id": "5bbb7620-0e97-40db-ae73-e02abddc474b",
   "metadata": {},
   "source": [
    "# More Short Format Method(f String Method)"
   ]
  },
  {
   "cell_type": "code",
   "execution_count": 8,
   "id": "d3bee442-0fa3-409f-b216-600605fc259c",
   "metadata": {},
   "outputs": [
    {
     "name": "stdout",
     "output_type": "stream",
     "text": [
      "The Addition of 20 and 30 is 50\n"
     ]
    }
   ],
   "source": [
    "num1=20\n",
    "num2=30\n",
    "add=num1+num2\n",
    "print(f'The Addition of {num1} and {num2} is {add}')"
   ]
  },
  {
   "cell_type": "markdown",
   "id": "d26f8fb3-ecfc-4bb5-9fdc-597230b93874",
   "metadata": {},
   "source": [
    "# END Statement"
   ]
  },
  {
   "cell_type": "code",
   "execution_count": 9,
   "id": "426fa9e8-aac9-437d-ade3-c6eb325d0f9b",
   "metadata": {},
   "outputs": [
    {
     "name": "stdout",
     "output_type": "stream",
     "text": [
      "Hello!\n",
      "Everyone\n"
     ]
    }
   ],
   "source": [
    "print(\"Hello!\")\n",
    "print(\"Everyone\")"
   ]
  },
  {
   "cell_type": "code",
   "execution_count": 10,
   "id": "97cda981-492f-49cf-9778-153cafb77514",
   "metadata": {},
   "outputs": [
    {
     "name": "stdout",
     "output_type": "stream",
     "text": [
      "Hello! Everyone\n"
     ]
    }
   ],
   "source": [
    "print(\"Hello!\",end=' ')\n",
    "print(\"Everyone\")"
   ]
  },
  {
   "cell_type": "markdown",
   "id": "8e2ec3e1-d333-4766-95ef-0b35cd269354",
   "metadata": {},
   "source": [
    "# SEPRATOR"
   ]
  },
  {
   "cell_type": "code",
   "execution_count": 11,
   "id": "8dd00f23-bac0-481b-89de-031eee95b44a",
   "metadata": {},
   "outputs": [
    {
     "name": "stdout",
     "output_type": "stream",
     "text": [
      "Hi---Hello---Everyone---Present---Here\n"
     ]
    }
   ],
   "source": [
    "print('Hi','Hello','Everyone','Present','Here',sep='---')"
   ]
  },
  {
   "cell_type": "code",
   "execution_count": 12,
   "id": "017e5ff3-6877-4f6f-9378-53037d997cb2",
   "metadata": {},
   "outputs": [
    {
     "name": "stdout",
     "output_type": "stream",
     "text": [
      "1::2::3::4::5::6::7::8::9\n"
     ]
    }
   ],
   "source": [
    "print(1, 2, 3, 4, 5, 6, 7, 8, 9,sep='::')"
   ]
  },
  {
   "cell_type": "code",
   "execution_count": 16,
   "id": "24b0a52b-370b-43fd-97e5-869839cd7f9e",
   "metadata": {},
   "outputs": [
    {
     "name": "stdout",
     "output_type": "stream",
     "text": [
      "1 2 3.\n"
     ]
    }
   ],
   "source": [
    "print(1,2,end=' ')\n",
    "print(3,'.',sep='')"
   ]
  },
  {
   "cell_type": "code",
   "execution_count": 14,
   "id": "3a832f77-8b1e-4a61-8659-b1ceb98f5c23",
   "metadata": {},
   "outputs": [
    {
     "name": "stdout",
     "output_type": "stream",
     "text": [
      "1 2\n",
      "3\n"
     ]
    }
   ],
   "source": [
    "print(1, 2,sep=' ')\n",
    "print(3,sep='.')"
   ]
  }
 ],
 "metadata": {
  "kernelspec": {
   "display_name": "Python 3 (ipykernel)",
   "language": "python",
   "name": "python3"
  },
  "language_info": {
   "codemirror_mode": {
    "name": "ipython",
    "version": 3
   },
   "file_extension": ".py",
   "mimetype": "text/x-python",
   "name": "python",
   "nbconvert_exporter": "python",
   "pygments_lexer": "ipython3",
   "version": "3.13.5"
  }
 },
 "nbformat": 4,
 "nbformat_minor": 5
}
