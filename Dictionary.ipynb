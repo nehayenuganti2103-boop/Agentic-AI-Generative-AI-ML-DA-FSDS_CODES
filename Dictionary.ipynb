{
 "cells": [
  {
   "cell_type": "markdown",
   "id": "4bf5b672-c0fd-4278-a0e6-35710903d983",
   "metadata": {},
   "source": [
    "## DICTIONARY"
   ]
  },
  {
   "cell_type": "code",
   "execution_count": 2,
   "id": "19f7cd7b-6a9c-4df7-be27-111b630263f0",
   "metadata": {},
   "outputs": [
    {
     "data": {
      "text/plain": [
       "{}"
      ]
     },
     "execution_count": 2,
     "metadata": {},
     "output_type": "execute_result"
    }
   ],
   "source": [
    "d={}\n",
    "d"
   ]
  },
  {
   "cell_type": "code",
   "execution_count": 3,
   "id": "520d369d-5c1c-40d3-ae38-f748a967a930",
   "metadata": {},
   "outputs": [
    {
     "data": {
      "text/plain": [
       "dict"
      ]
     },
     "execution_count": 3,
     "metadata": {},
     "output_type": "execute_result"
    }
   ],
   "source": [
    "type(d)"
   ]
  },
  {
   "cell_type": "code",
   "execution_count": 10,
   "id": "2ba8c1a8-10aa-4fc7-bbd6-d04bf3d3f843",
   "metadata": {},
   "outputs": [],
   "source": [
    "d={1 : 'one',2 : 'two',3 : 'three',4 : 'four'}    #dict have keys and values in it!!"
   ]
  },
  {
   "cell_type": "code",
   "execution_count": 11,
   "id": "ca66e215-6c1c-4a52-86a6-b1fc2e76381c",
   "metadata": {},
   "outputs": [
    {
     "data": {
      "text/plain": [
       "{1: 'one', 2: 'two', 3: 'three', 4: 'four'}"
      ]
     },
     "execution_count": 11,
     "metadata": {},
     "output_type": "execute_result"
    }
   ],
   "source": [
    "d"
   ]
  },
  {
   "cell_type": "code",
   "execution_count": 12,
   "id": "ef4a8225-10fa-4b06-a885-cbeaa850ba67",
   "metadata": {},
   "outputs": [
    {
     "data": {
      "text/plain": [
       "dict"
      ]
     },
     "execution_count": 12,
     "metadata": {},
     "output_type": "execute_result"
    }
   ],
   "source": [
    "type(d)"
   ]
  },
  {
   "cell_type": "code",
   "execution_count": 19,
   "id": "a75062ee-6c72-49f4-a393-b31db19f6695",
   "metadata": {},
   "outputs": [
    {
     "data": {
      "text/plain": [
       "{1: 'one', 2: 'two', 3: 'three', 'four': 4, 'l': [1, 2, 3]}"
      ]
     },
     "execution_count": 19,
     "metadata": {},
     "output_type": "execute_result"
    }
   ],
   "source": [
    "d1={1 : 'one',2 : 'two',3 : 'three','four' : 4, 'l' : [1,2,3]}       #dict allows list DS in it!!\n",
    "d1"
   ]
  },
  {
   "cell_type": "code",
   "execution_count": 21,
   "id": "036a2229-1b9f-49d5-9a32-8493ac3b49b8",
   "metadata": {},
   "outputs": [
    {
     "data": {
      "text/plain": [
       "{1: 'one', 2: 'two', 3: 'three', 4: 'four'}"
      ]
     },
     "execution_count": 21,
     "metadata": {},
     "output_type": "execute_result"
    }
   ],
   "source": [
    "d"
   ]
  },
  {
   "cell_type": "code",
   "execution_count": 22,
   "id": "b1f4c6f1-212e-4df8-81e6-aa2dfebde094",
   "metadata": {},
   "outputs": [],
   "source": [
    "d2=d.copy()      #copy function completely duplicate the entire set into other dict"
   ]
  },
  {
   "cell_type": "code",
   "execution_count": 23,
   "id": "34c77d96-c1ba-405f-9a13-a96144d9f884",
   "metadata": {},
   "outputs": [
    {
     "data": {
      "text/plain": [
       "{1: 'one', 2: 'two', 3: 'three', 4: 'four'}"
      ]
     },
     "execution_count": 23,
     "metadata": {},
     "output_type": "execute_result"
    }
   ],
   "source": [
    "d2"
   ]
  },
  {
   "cell_type": "code",
   "execution_count": 25,
   "id": "0347098b-f581-4df2-af81-09998a1d1343",
   "metadata": {},
   "outputs": [
    {
     "data": {
      "text/plain": [
       "dict_items([(1, 'one'), (2, 'two'), (3, 'three'), (4, 'four')])"
      ]
     },
     "execution_count": 25,
     "metadata": {},
     "output_type": "execute_result"
    }
   ],
   "source": [
    "d.items()      #items function groups the key and value in one on one form in the dict"
   ]
  },
  {
   "cell_type": "code",
   "execution_count": 26,
   "id": "ac76c816-94a2-47c9-a59d-ca118a980aaf",
   "metadata": {},
   "outputs": [
    {
     "data": {
      "text/plain": [
       "4"
      ]
     },
     "execution_count": 26,
     "metadata": {},
     "output_type": "execute_result"
    }
   ],
   "source": [
    "len(d.items())       #length function gives the number of values in the dict"
   ]
  },
  {
   "cell_type": "code",
   "execution_count": 27,
   "id": "0c56fbdc-bd75-4c0e-a693-77ea611416d3",
   "metadata": {},
   "outputs": [
    {
     "data": {
      "text/plain": [
       "dict_keys([1, 2, 3, 4])"
      ]
     },
     "execution_count": 27,
     "metadata": {},
     "output_type": "execute_result"
    }
   ],
   "source": [
    "d.keys()         #keys function shows all the key's in the dict"
   ]
  },
  {
   "cell_type": "code",
   "execution_count": 28,
   "id": "48f3b60c-4ed3-4ff2-9ef7-c46a34658c2a",
   "metadata": {},
   "outputs": [
    {
     "data": {
      "text/plain": [
       "dict_values(['one', 'two', 'three', 'four'])"
      ]
     },
     "execution_count": 28,
     "metadata": {},
     "output_type": "execute_result"
    }
   ],
   "source": [
    "d.values()     #values function shows all the value's in the dict"
   ]
  },
  {
   "cell_type": "code",
   "execution_count": 29,
   "id": "53171b89-9a8e-483a-8916-0408a8f5594a",
   "metadata": {},
   "outputs": [
    {
     "data": {
      "text/plain": [
       "{1: 'one', 2: 'two', 3: 'three', 'four': 4, 'l': [1, 2, 3]}"
      ]
     },
     "execution_count": 29,
     "metadata": {},
     "output_type": "execute_result"
    }
   ],
   "source": [
    "d1"
   ]
  },
  {
   "cell_type": "code",
   "execution_count": 30,
   "id": "6cfffa0c-5f5e-4281-bdac-c3523f12b2a8",
   "metadata": {},
   "outputs": [
    {
     "data": {
      "text/plain": [
       "[1, 2, 3]"
      ]
     },
     "execution_count": 30,
     "metadata": {},
     "output_type": "execute_result"
    }
   ],
   "source": [
    "d1.pop('l')       #pop function deletes the value from the dict"
   ]
  },
  {
   "cell_type": "code",
   "execution_count": 31,
   "id": "c2f2d29a-0a1b-4b37-9ed6-34bc69222e0e",
   "metadata": {},
   "outputs": [
    {
     "data": {
      "text/plain": [
       "{1: 'one', 2: 'two', 3: 'three', 'four': 4}"
      ]
     },
     "execution_count": 31,
     "metadata": {},
     "output_type": "execute_result"
    }
   ],
   "source": [
    "d1"
   ]
  },
  {
   "cell_type": "markdown",
   "id": "98a92372-0d4f-4c95-9164-96a54d5c7bd0",
   "metadata": {},
   "source": [
    "##  RANGE"
   ]
  },
  {
   "cell_type": "code",
   "execution_count": 32,
   "id": "acfc29cf-8c8b-48ed-9fe2-3e7308c7439d",
   "metadata": {},
   "outputs": [
    {
     "data": {
      "text/plain": [
       "range(0, 10)"
      ]
     },
     "execution_count": 32,
     "metadata": {},
     "output_type": "execute_result"
    }
   ],
   "source": [
    "range(10)    #range function defaultly shows the intial and final position "
   ]
  },
  {
   "cell_type": "code",
   "execution_count": 33,
   "id": "6f2a9b23-1a5c-497c-8c7c-ffc70f8f161b",
   "metadata": {},
   "outputs": [
    {
     "data": {
      "text/plain": [
       "range(10, 20)"
      ]
     },
     "execution_count": 33,
     "metadata": {},
     "output_type": "execute_result"
    }
   ],
   "source": [
    "range(10,20)"
   ]
  },
  {
   "cell_type": "code",
   "execution_count": 35,
   "id": "a59a3b72-5b49-4c0e-bc50-d183d7f47665",
   "metadata": {},
   "outputs": [
    {
     "data": {
      "text/plain": [
       "range(10, 20, 5)"
      ]
     },
     "execution_count": 35,
     "metadata": {},
     "output_type": "execute_result"
    }
   ],
   "source": [
    "range(10,20,5)"
   ]
  },
  {
   "cell_type": "code",
   "execution_count": 36,
   "id": "ad75ce4d-6ee3-41c1-a882-7a3de48cea6e",
   "metadata": {},
   "outputs": [
    {
     "data": {
      "text/plain": [
       "[0, 1, 2, 3, 4, 5, 6, 7, 8, 9]"
      ]
     },
     "execution_count": 36,
     "metadata": {},
     "output_type": "execute_result"
    }
   ],
   "source": [
    "list(range(10))"
   ]
  },
  {
   "cell_type": "code",
   "execution_count": 37,
   "id": "a9208002-510f-445f-9731-469deb6f994d",
   "metadata": {},
   "outputs": [
    {
     "data": {
      "text/plain": [
       "[5, 6, 7, 8, 9, 10, 11, 12, 13, 14, 15, 16, 17, 18, 19, 20, 21, 22, 23, 24]"
      ]
     },
     "execution_count": 37,
     "metadata": {},
     "output_type": "execute_result"
    }
   ],
   "source": [
    "list(range(5,25))"
   ]
  },
  {
   "cell_type": "code",
   "execution_count": 38,
   "id": "a0021db7-4e3e-4d63-a700-11775d9da718",
   "metadata": {},
   "outputs": [
    {
     "data": {
      "text/plain": [
       "[10, 15, 20, 25, 30, 35, 40, 45, 50, 55, 60, 65, 70, 75, 80, 85, 90, 95]"
      ]
     },
     "execution_count": 38,
     "metadata": {},
     "output_type": "execute_result"
    }
   ],
   "source": [
    "list(range(10,100,5))"
   ]
  },
  {
   "cell_type": "code",
   "execution_count": 42,
   "id": "042f567b-36ff-4ee1-8921-7e459bb755ec",
   "metadata": {},
   "outputs": [
    {
     "name": "stdout",
     "output_type": "stream",
     "text": [
      "range(10, 100, 25)\n"
     ]
    }
   ],
   "source": [
    "r=range(10,100,25)\n",
    "print(r)"
   ]
  },
  {
   "cell_type": "code",
   "execution_count": 43,
   "id": "c038921b-6736-414f-a89d-31622ff42655",
   "metadata": {},
   "outputs": [
    {
     "name": "stdout",
     "output_type": "stream",
     "text": [
      "10\n",
      "35\n",
      "60\n",
      "85\n"
     ]
    }
   ],
   "source": [
    "for i in r:\n",
    "    print(i)"
   ]
  }
 ],
 "metadata": {
  "kernelspec": {
   "display_name": "Python 3 (ipykernel)",
   "language": "python",
   "name": "python3"
  },
  "language_info": {
   "codemirror_mode": {
    "name": "ipython",
    "version": 3
   },
   "file_extension": ".py",
   "mimetype": "text/x-python",
   "name": "python",
   "nbconvert_exporter": "python",
   "pygments_lexer": "ipython3",
   "version": "3.13.5"
  }
 },
 "nbformat": 4,
 "nbformat_minor": 5
}
