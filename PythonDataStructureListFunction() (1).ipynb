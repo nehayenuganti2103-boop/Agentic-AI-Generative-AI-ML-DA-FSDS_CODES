{
 "cells": [
  {
   "cell_type": "markdown",
   "id": "97d6b98d-9859-4c7e-9906-44c3db75815b",
   "metadata": {},
   "source": [
    "## LIST FUNCTION()"
   ]
  },
  {
   "cell_type": "code",
   "execution_count": 24,
   "id": "86590c20-b93a-4a74-852f-179a287849fc",
   "metadata": {},
   "outputs": [],
   "source": [
    "l=[10,20,30,40]"
   ]
  },
  {
   "cell_type": "code",
   "execution_count": 25,
   "id": "750254f8-aae5-4e4b-b6ce-9737529506b1",
   "metadata": {},
   "outputs": [
    {
     "data": {
      "text/plain": [
       "list"
      ]
     },
     "execution_count": 25,
     "metadata": {},
     "output_type": "execute_result"
    }
   ],
   "source": [
    "type(l)"
   ]
  },
  {
   "cell_type": "code",
   "execution_count": 26,
   "id": "ba1663bc-5578-410f-ac3a-4cef796718d8",
   "metadata": {},
   "outputs": [
    {
     "name": "stdout",
     "output_type": "stream",
     "text": [
      "<class 'list'>\n"
     ]
    }
   ],
   "source": [
    "print(type(l))"
   ]
  },
  {
   "cell_type": "code",
   "execution_count": 27,
   "id": "5b946054-6a90-461c-9689-78ba72236913",
   "metadata": {},
   "outputs": [
    {
     "data": {
      "text/plain": [
       "4"
      ]
     },
     "execution_count": 27,
     "metadata": {},
     "output_type": "execute_result"
    }
   ],
   "source": [
    "len(l)      #length function tells the length of the string"
   ]
  },
  {
   "cell_type": "code",
   "execution_count": 28,
   "id": "972b55c7-476c-4d6c-8abe-db616f7ea9f2",
   "metadata": {},
   "outputs": [],
   "source": [
    "l.append(50)"
   ]
  },
  {
   "cell_type": "code",
   "execution_count": 29,
   "id": "0bd76834-ca90-407a-a94b-5df007fdd609",
   "metadata": {},
   "outputs": [
    {
     "data": {
      "text/plain": [
       "[10, 20, 30, 40, 50]"
      ]
     },
     "execution_count": 29,
     "metadata": {},
     "output_type": "execute_result"
    }
   ],
   "source": [
    "l"
   ]
  },
  {
   "cell_type": "code",
   "execution_count": 30,
   "id": "bb7a5b29-1e56-4ef1-b71a-5cf92e5c616a",
   "metadata": {},
   "outputs": [
    {
     "data": {
      "text/plain": [
       "5"
      ]
     },
     "execution_count": 30,
     "metadata": {},
     "output_type": "execute_result"
    }
   ],
   "source": [
    "len(l)"
   ]
  },
  {
   "cell_type": "code",
   "execution_count": 31,
   "id": "f3876287-ef39-4134-96e3-3fd6929c8587",
   "metadata": {},
   "outputs": [
    {
     "ename": "TypeError",
     "evalue": "list.append() takes exactly one argument (2 given)",
     "output_type": "error",
     "traceback": [
      "\u001b[1;31m---------------------------------------------------------------------------\u001b[0m",
      "\u001b[1;31mTypeError\u001b[0m                                 Traceback (most recent call last)",
      "Cell \u001b[1;32mIn[31], line 1\u001b[0m\n\u001b[1;32m----> 1\u001b[0m l\u001b[38;5;241m.\u001b[39mappend(\u001b[38;5;241m60\u001b[39m,\u001b[38;5;241m70\u001b[39m)\n",
      "\u001b[1;31mTypeError\u001b[0m: list.append() takes exactly one argument (2 given)"
     ]
    }
   ],
   "source": [
    "l.append(60,70)   //function doest accept multiple values at a time//"
   ]
  },
  {
   "cell_type": "code",
   "execution_count": 32,
   "id": "bac870d1-8dad-4eb0-9720-5c3a60d03c76",
   "metadata": {},
   "outputs": [
    {
     "data": {
      "text/plain": [
       "[10, 20, 30, 40, 50]"
      ]
     },
     "execution_count": 32,
     "metadata": {},
     "output_type": "execute_result"
    }
   ],
   "source": [
    "l"
   ]
  },
  {
   "cell_type": "code",
   "execution_count": 33,
   "id": "4120f1ee-2f74-4aa3-b914-9cc09a283e4c",
   "metadata": {},
   "outputs": [],
   "source": [
    "l.append(10)"
   ]
  },
  {
   "cell_type": "code",
   "execution_count": 34,
   "id": "edb5afa3-70e3-44bd-8355-91b9a7f7801c",
   "metadata": {},
   "outputs": [],
   "source": [
    "l.append(30)"
   ]
  },
  {
   "cell_type": "code",
   "execution_count": 35,
   "id": "df01a44b-6826-4aea-823f-8f27ecfcd329",
   "metadata": {},
   "outputs": [
    {
     "data": {
      "text/plain": [
       "[10, 20, 30, 40, 50, 10, 30]"
      ]
     },
     "execution_count": 35,
     "metadata": {},
     "output_type": "execute_result"
    }
   ],
   "source": [
    "l"
   ]
  },
  {
   "cell_type": "code",
   "execution_count": 36,
   "id": "ef483fed-680b-428f-a4dd-1ebf9f73da60",
   "metadata": {},
   "outputs": [],
   "source": [
    "l1=l.copy()      #copy function copies the entire list into the other list"
   ]
  },
  {
   "cell_type": "code",
   "execution_count": 39,
   "id": "7fd85b44-02ce-4860-960c-475c72924792",
   "metadata": {},
   "outputs": [],
   "source": [
    "l1.append(10)"
   ]
  },
  {
   "cell_type": "code",
   "execution_count": 40,
   "id": "6bd06286-70da-4e75-94b1-d4b20b29b666",
   "metadata": {},
   "outputs": [],
   "source": [
    "l1.append(20)"
   ]
  },
  {
   "cell_type": "code",
   "execution_count": 41,
   "id": "87c7b495-622f-434b-b562-b619a5bf400f",
   "metadata": {},
   "outputs": [
    {
     "name": "stdout",
     "output_type": "stream",
     "text": [
      "[10, 20, 30, 40, 50, 10, 30]\n",
      "[10, 20, 30, 40, 50, 10, 30, 10, 20]\n"
     ]
    }
   ],
   "source": [
    "print(l)\n",
    "print(l1)"
   ]
  },
  {
   "cell_type": "code",
   "execution_count": 42,
   "id": "804d0348-3cec-4173-883a-93964efb913b",
   "metadata": {},
   "outputs": [
    {
     "data": {
      "text/plain": [
       "3"
      ]
     },
     "execution_count": 42,
     "metadata": {},
     "output_type": "execute_result"
    }
   ],
   "source": [
    "l1.count(10)    #count function tells the frequency of repeated times in a list"
   ]
  },
  {
   "cell_type": "code",
   "execution_count": 43,
   "id": "70f56009-87aa-4bdf-9d54-d556aa419379",
   "metadata": {},
   "outputs": [
    {
     "data": {
      "text/plain": [
       "[10, 20, 30, 40, 50, 10, 30, 10, 20]"
      ]
     },
     "execution_count": 43,
     "metadata": {},
     "output_type": "execute_result"
    }
   ],
   "source": [
    "l1"
   ]
  },
  {
   "cell_type": "code",
   "execution_count": 44,
   "id": "172ad9ae-86ae-4378-bde2-d5b198bd0dd3",
   "metadata": {},
   "outputs": [
    {
     "data": {
      "text/plain": [
       "9"
      ]
     },
     "execution_count": 44,
     "metadata": {},
     "output_type": "execute_result"
    }
   ],
   "source": [
    "len(l1)"
   ]
  },
  {
   "cell_type": "code",
   "execution_count": 45,
   "id": "ecd7ce03-2ef5-4dfa-9318-8b3056b99b04",
   "metadata": {},
   "outputs": [],
   "source": [
    "l.clear()         #clear function erases the values in the list "
   ]
  },
  {
   "cell_type": "code",
   "execution_count": 46,
   "id": "132106e9-dfa5-426a-a849-e34b0e4dbe86",
   "metadata": {},
   "outputs": [
    {
     "data": {
      "text/plain": [
       "[]"
      ]
     },
     "execution_count": 46,
     "metadata": {},
     "output_type": "execute_result"
    }
   ],
   "source": [
    "l"
   ]
  },
  {
   "cell_type": "code",
   "execution_count": 47,
   "id": "fea98ca5-e146-483b-bcd1-29924ecbd951",
   "metadata": {},
   "outputs": [
    {
     "name": "stdout",
     "output_type": "stream",
     "text": [
      "[]\n",
      "[10, 20, 30, 40, 50, 10, 30, 10, 20]\n"
     ]
    }
   ],
   "source": [
    "print(l)\n",
    "print(l1)"
   ]
  },
  {
   "cell_type": "code",
   "execution_count": 74,
   "id": "5fce1dc3-20f1-4700-9cd3-270a8a713a87",
   "metadata": {},
   "outputs": [],
   "source": [
    "l1.extend([60,70])       #extend function adds on the new list into the existing list"
   ]
  },
  {
   "cell_type": "code",
   "execution_count": 75,
   "id": "aef89e53-bdfa-4a6a-a860-d87119660c4a",
   "metadata": {},
   "outputs": [
    {
     "data": {
      "text/plain": [
       "[20, 10, 30, 10, 50, 40, 30, 20, 10, 60, 70]"
      ]
     },
     "execution_count": 75,
     "metadata": {},
     "output_type": "execute_result"
    }
   ],
   "source": [
    "l1"
   ]
  },
  {
   "cell_type": "code",
   "execution_count": 76,
   "id": "8ef262c2-6df3-466f-96b1-33d55de994a7",
   "metadata": {},
   "outputs": [
    {
     "data": {
      "text/plain": [
       "5"
      ]
     },
     "execution_count": 76,
     "metadata": {},
     "output_type": "execute_result"
    }
   ],
   "source": [
    "l1.index(40)       #index function declaring the exact postion value"
   ]
  },
  {
   "cell_type": "code",
   "execution_count": 77,
   "id": "a34abc42-6f6e-4746-a49e-33b7eec9d40d",
   "metadata": {},
   "outputs": [
    {
     "data": {
      "text/plain": [
       "4"
      ]
     },
     "execution_count": 77,
     "metadata": {},
     "output_type": "execute_result"
    }
   ],
   "source": [
    "l1.index(50)"
   ]
  },
  {
   "cell_type": "code",
   "execution_count": 78,
   "id": "c762d102-9669-481f-a1bf-956346eb7394",
   "metadata": {},
   "outputs": [
    {
     "data": {
      "text/plain": [
       "20"
      ]
     },
     "execution_count": 78,
     "metadata": {},
     "output_type": "execute_result"
    }
   ],
   "source": [
    "l1[0]"
   ]
  },
  {
   "cell_type": "code",
   "execution_count": 79,
   "id": "99cb0094-3bbf-4b62-b6be-3dc1cd99ac5a",
   "metadata": {},
   "outputs": [],
   "source": [
    "l=[10,20,30,40,-50,20]"
   ]
  },
  {
   "cell_type": "code",
   "execution_count": 80,
   "id": "60ab5e3a-9519-4ac0-8b5b-09ab00e7194e",
   "metadata": {},
   "outputs": [],
   "source": [
    "l.insert(15,2)    "
   ]
  },
  {
   "cell_type": "code",
   "execution_count": 8,
   "id": "fc8785e6-e20a-4fba-b3e0-1a01b9e9d122",
   "metadata": {},
   "outputs": [
    {
     "data": {
      "text/plain": [
       "[10, 20, 30, 40, -50, 20, 2]"
      ]
     },
     "execution_count": 8,
     "metadata": {},
     "output_type": "execute_result"
    }
   ],
   "source": [
    "l"
   ]
  },
  {
   "cell_type": "code",
   "execution_count": 9,
   "id": "e278dbb3-cff4-4daa-b759-394f6dd7d479",
   "metadata": {},
   "outputs": [],
   "source": [
    "l.insert(2, 15)    #2nd index position having value 15"
   ]
  },
  {
   "cell_type": "code",
   "execution_count": 10,
   "id": "cc638ef2-8593-4214-84da-9a2dbcef701d",
   "metadata": {},
   "outputs": [
    {
     "data": {
      "text/plain": [
       "[10, 20, 15, 30, 40, -50, 20, 2]"
      ]
     },
     "execution_count": 10,
     "metadata": {},
     "output_type": "execute_result"
    }
   ],
   "source": [
    "l"
   ]
  },
  {
   "cell_type": "code",
   "execution_count": 11,
   "id": "96ebe23b-02f4-40d7-858b-bc2464f9a2d3",
   "metadata": {},
   "outputs": [
    {
     "data": {
      "text/plain": [
       "2"
      ]
     },
     "execution_count": 11,
     "metadata": {},
     "output_type": "execute_result"
    }
   ],
   "source": [
    "l.pop()      #by default pop function terminates the last value"
   ]
  },
  {
   "cell_type": "code",
   "execution_count": 12,
   "id": "d99ab9c3-06a2-491d-ab45-7a8cfe2fdc57",
   "metadata": {},
   "outputs": [
    {
     "data": {
      "text/plain": [
       "[10, 20, 15, 30, 40, -50, 20]"
      ]
     },
     "execution_count": 12,
     "metadata": {},
     "output_type": "execute_result"
    }
   ],
   "source": [
    "l"
   ]
  },
  {
   "cell_type": "code",
   "execution_count": 13,
   "id": "0d81f1f7-ed8b-42db-8496-cb0af2719251",
   "metadata": {},
   "outputs": [
    {
     "data": {
      "text/plain": [
       "20"
      ]
     },
     "execution_count": 13,
     "metadata": {},
     "output_type": "execute_result"
    }
   ],
   "source": [
    "l.pop()"
   ]
  },
  {
   "cell_type": "code",
   "execution_count": 14,
   "id": "90acc5cf-aadc-4117-9d29-59f8524e426f",
   "metadata": {},
   "outputs": [
    {
     "data": {
      "text/plain": [
       "[10, 20, 15, 30, 40, -50]"
      ]
     },
     "execution_count": 14,
     "metadata": {},
     "output_type": "execute_result"
    }
   ],
   "source": [
    "l"
   ]
  },
  {
   "cell_type": "code",
   "execution_count": 15,
   "id": "4ac49171-1152-4acf-a50c-41af34e5685a",
   "metadata": {},
   "outputs": [
    {
     "data": {
      "text/plain": [
       "-50"
      ]
     },
     "execution_count": 15,
     "metadata": {},
     "output_type": "execute_result"
    }
   ],
   "source": [
    "l.pop()"
   ]
  },
  {
   "cell_type": "code",
   "execution_count": 16,
   "id": "1ba7e727-fd09-443d-a69b-a46c5a590e17",
   "metadata": {},
   "outputs": [
    {
     "data": {
      "text/plain": [
       "[10, 20, 15, 30, 40]"
      ]
     },
     "execution_count": 16,
     "metadata": {},
     "output_type": "execute_result"
    }
   ],
   "source": [
    "l"
   ]
  },
  {
   "cell_type": "code",
   "execution_count": 18,
   "id": "6417b292-0e05-4f3c-8b0b-bfe2a6819778",
   "metadata": {},
   "outputs": [
    {
     "data": {
      "text/plain": [
       "[9, 'ten', 3.4, True, (2+3j)]"
      ]
     },
     "execution_count": 18,
     "metadata": {},
     "output_type": "execute_result"
    }
   ],
   "source": [
    "l2=[9,'ten',3.4,True,(2+3j)]\n",
    "l2"
   ]
  },
  {
   "cell_type": "code",
   "execution_count": 19,
   "id": "737967d4-5f2f-43a3-99bb-adb4f7987470",
   "metadata": {},
   "outputs": [
    {
     "data": {
      "text/plain": [
       "True"
      ]
     },
     "execution_count": 19,
     "metadata": {},
     "output_type": "execute_result"
    }
   ],
   "source": [
    "l2.pop(3)     #declaring index value to pop function"
   ]
  },
  {
   "cell_type": "code",
   "execution_count": 20,
   "id": "e7357932-9fcb-423a-a46f-c6c32f0bf121",
   "metadata": {},
   "outputs": [
    {
     "data": {
      "text/plain": [
       "[9, 'ten', 3.4, (2+3j)]"
      ]
     },
     "execution_count": 20,
     "metadata": {},
     "output_type": "execute_result"
    }
   ],
   "source": [
    "l2"
   ]
  },
  {
   "cell_type": "code",
   "execution_count": 21,
   "id": "7a1283e3-23f2-47dd-9f91-1bfd8ca3cdcd",
   "metadata": {},
   "outputs": [],
   "source": [
    "l2.remove('ten')  # remove function deletes the value completely"
   ]
  },
  {
   "cell_type": "code",
   "execution_count": 22,
   "id": "29e5017d-4399-4f8b-87f2-c7c4267d25ed",
   "metadata": {},
   "outputs": [
    {
     "data": {
      "text/plain": [
       "[9, 3.4, (2+3j)]"
      ]
     },
     "execution_count": 22,
     "metadata": {},
     "output_type": "execute_result"
    }
   ],
   "source": [
    "l2"
   ]
  },
  {
   "cell_type": "code",
   "execution_count": 57,
   "id": "23558c7a-a9d0-4b54-8d90-bbf048bbf3c1",
   "metadata": {},
   "outputs": [],
   "source": [
    "l3=[1,9,5,7,3,19,17,11,13,15,21]"
   ]
  },
  {
   "cell_type": "code",
   "execution_count": 71,
   "id": "03ce719b-4b7c-432d-9950-697721cbbfb7",
   "metadata": {},
   "outputs": [],
   "source": [
    "l3.reverse()        #reverse function arranges the values in the list in descending order"
   ]
  },
  {
   "cell_type": "code",
   "execution_count": 72,
   "id": "ace7102e-7d71-4b1e-a03a-f65a45dad9c7",
   "metadata": {},
   "outputs": [
    {
     "data": {
      "text/plain": [
       "[21, 19, 17, 15, 13, 11, 9, 7, 5, 3, 1]"
      ]
     },
     "execution_count": 72,
     "metadata": {},
     "output_type": "execute_result"
    }
   ],
   "source": [
    "l3"
   ]
  },
  {
   "cell_type": "code",
   "execution_count": 66,
   "id": "4aaa1a90-c6f1-49d4-b263-f6563f04fade",
   "metadata": {},
   "outputs": [
    {
     "data": {
      "text/plain": [
       "[21, 19, 17, 15, 13, 11, 9, 7, 5, 3, 1]"
      ]
     },
     "execution_count": 66,
     "metadata": {},
     "output_type": "execute_result"
    }
   ],
   "source": [
    "l3.sort(reverse=True)\n",
    "l3"
   ]
  },
  {
   "cell_type": "code",
   "execution_count": 73,
   "id": "3a404079-0d8a-44b1-9b26-c8a91a3e1757",
   "metadata": {},
   "outputs": [
    {
     "data": {
      "text/plain": [
       "[1, 3, 5, 7, 9, 11, 13, 15, 17, 19, 21]"
      ]
     },
     "execution_count": 73,
     "metadata": {},
     "output_type": "execute_result"
    }
   ],
   "source": [
    "l3.sort()\n",
    "l3"
   ]
  }
 ],
 "metadata": {
  "kernelspec": {
   "display_name": "Python 3 (ipykernel)",
   "language": "python",
   "name": "python3"
  },
  "language_info": {
   "codemirror_mode": {
    "name": "ipython",
    "version": 3
   },
   "file_extension": ".py",
   "mimetype": "text/x-python",
   "name": "python",
   "nbconvert_exporter": "python",
   "pygments_lexer": "ipython3",
   "version": "3.13.5"
  }
 },
 "nbformat": 4,
 "nbformat_minor": 5
}
